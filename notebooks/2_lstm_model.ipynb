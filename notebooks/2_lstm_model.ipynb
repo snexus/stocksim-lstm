{
 "cells": [
  {
   "cell_type": "markdown",
   "metadata": {},
   "source": [
    "# LSTM model\n",
    "\n",
    "## Architecture\n",
    "\n",
    "Many-to-many\n",
    "\n",
    "## DataSet implementation\n",
    "\n",
    "- Index is ticker based (create dictionary)\n",
    "- Analysis on padding\n",
    "\n"
   ]
  },
  {
   "cell_type": "markdown",
   "metadata": {},
   "source": [
    "### Configuration parameters"
   ]
  },
  {
   "cell_type": "code",
   "execution_count": 93,
   "metadata": {},
   "outputs": [],
   "source": [
    "TRANSFORMED_DATA_FN = \"../data/transformed/data.csv\" # Data\n",
    "TRANSFORMED_META_FN = \"../data/transformed/data.json\" # Metadata\n",
    "\n",
    "MAX_SEQ_LENGTH = 25\n",
    "MIN_SEQ_LENGTH = 10"
   ]
  },
  {
   "cell_type": "code",
   "execution_count": null,
   "metadata": {},
   "outputs": [],
   "source": []
  },
  {
   "cell_type": "code",
   "execution_count": 94,
   "metadata": {},
   "outputs": [],
   "source": [
    "import pandas as pd\n",
    "import numpy as np\n",
    "import matplotlib.pyplot as plt\n",
    "import json\n",
    "\n",
    "import seaborn as sns\n",
    "\n",
    "sns.set_style(\"whitegrid\")"
   ]
  },
  {
   "cell_type": "markdown",
   "metadata": {},
   "source": [
    "### Load data"
   ]
  },
  {
   "cell_type": "code",
   "execution_count": 95,
   "metadata": {},
   "outputs": [],
   "source": [
    "df_1 = pd.read_csv(TRANSFORMED_DATA_FN)"
   ]
  },
  {
   "cell_type": "code",
   "execution_count": 96,
   "metadata": {},
   "outputs": [],
   "source": [
    "# Convert datetimes\n",
    "\n",
    "for col in ('calendardate', 'datekey', 'reportperiod', 'lastupdated'):\n",
    "    df_1[col] = pd.to_datetime(df_1[col])"
   ]
  },
  {
   "cell_type": "code",
   "execution_count": 97,
   "metadata": {},
   "outputs": [],
   "source": [
    "df_2 = df_1.sort_values(by=['ticker', 'datekey'])"
   ]
  },
  {
   "cell_type": "code",
   "execution_count": 98,
   "metadata": {},
   "outputs": [],
   "source": [
    "with open(TRANSFORMED_META_FN, 'r') as fp:\n",
    "    metadata = json.load(fp)\n",
    "    \n",
    "features = metadata['features'].split(\",\")\n",
    "target = metadata['target']"
   ]
  },
  {
   "cell_type": "code",
   "execution_count": 99,
   "metadata": {},
   "outputs": [],
   "source": [
    "seq_lengths = df_2.groupby('ticker').count()['datekey'].values\n"
   ]
  },
  {
   "cell_type": "code",
   "execution_count": 100,
   "metadata": {},
   "outputs": [
    {
     "data": {
      "image/png": "[encoded data removed]",
      "text/plain": [
       "<Figure size 432x288 with 1 Axes>"
      ]
     },
     "metadata": {},
     "output_type": "display_data"
    }
   ],
   "source": [
    "sns.distplot(seq_lengths, bins = 20);\n",
    "plt.title(\"Distribution of sequence lengths\");"
   ]
  },
  {
   "cell_type": "code",
   "execution_count": 101,
   "metadata": {},
   "outputs": [
    {
     "data": {
      "text/plain": [
       "25"
      ]
     },
     "execution_count": 101,
     "metadata": {},
     "output_type": "execute_result"
    }
   ],
   "source": [
    "max(seq_lengths)"
   ]
  },
  {
   "cell_type": "code",
   "execution_count": 102,
   "metadata": {},
   "outputs": [
    {
     "name": "stdout",
     "output_type": "stream",
     "text": [
      "Maximum sequence length:  25\n"
     ]
    }
   ],
   "source": [
    "print(\"Maximum sequence length: \", max(seq_lengths))"
   ]
  },
  {
   "cell_type": "code",
   "execution_count": null,
   "metadata": {},
   "outputs": [],
   "source": []
  },
  {
   "cell_type": "code",
   "execution_count": 159,
   "metadata": {},
   "outputs": [],
   "source": [
    "def get_padded_features(sorted_df, ticker, features, target, n_pad):\n",
    "    \"\"\" Return padded features and target\n",
    "    \n",
    "    Arguments\n",
    "    ---------\n",
    "    \n",
    "    sorted_df : Pandas dataframe\n",
    "        Dataframe with indicators, sorted by ticker and datekey        \n",
    "    ticker : str\n",
    "        Ticker name\n",
    "    features : list\n",
    "        Feature names        \n",
    "    target : str\n",
    "        Target name\n",
    "    pad : int\n",
    "        Pad length\n",
    "    \n",
    "    Returns\n",
    "    -------\n",
    "    padded_features : ndarray with shape (n_pad, n_features)\n",
    "    target : ndarray with shape (n_pad,1)\n",
    "    \n",
    "    \"\"\"\n",
    "    \n",
    "    n_features = len(features)\n",
    "    \n",
    "    ticker_data = sorted_df.loc[sorted_df['ticker'] == ticker, :]\n",
    "    \n",
    "    ticker_features = ticker_data.loc[:, features]\n",
    "    ticker_target = ticker_data.loc[:, target]\n",
    "   \n",
    "    out_features = np.zeros((n_pad, n_features))\n",
    "    out_target = np.zeros((n_pad, 1))\n",
    "    \n",
    "    out_features[0:len(ticker_features)] = ticker_features.values\n",
    "    out_target[0:len(ticker_features)] = ticker_target.values.reshape(-1,1)\n",
    "    \n",
    "    return out_features, out_target"
   ]
  },
  {
   "cell_type": "code",
   "execution_count": 143,
   "metadata": {},
   "outputs": [],
   "source": [
    "feat_array, target_array = get_padded_features(df_2, ticker='GEN', features = features, target = target, n_pad = MAX_SEQ_LENGTH)"
   ]
  },
  {
   "cell_type": "code",
   "execution_count": null,
   "metadata": {},
   "outputs": [],
   "source": []
  },
  {
   "cell_type": "code",
   "execution_count": 144,
   "metadata": {},
   "outputs": [
    {
     "data": {
      "text/plain": [
       "((25, 26), (25, 1))"
      ]
     },
     "execution_count": 144,
     "metadata": {},
     "output_type": "execute_result"
    }
   ],
   "source": [
    "feat_array.shape, target_array.shape"
   ]
  },
  {
   "cell_type": "markdown",
   "metadata": {},
   "source": [
    "### Prepare data"
   ]
  },
  {
   "cell_type": "code",
   "execution_count": 145,
   "metadata": {},
   "outputs": [],
   "source": [
    "from torch.utils.data import Dataset, DataLoader"
   ]
  },
  {
   "cell_type": "code",
   "execution_count": 146,
   "metadata": {},
   "outputs": [],
   "source": [
    "# Create unique ticker list and shuffle\n",
    "\n",
    "all_tickers = df_2['ticker'].unique()\n",
    "np.random.shuffle(all_tickers)"
   ]
  },
  {
   "cell_type": "code",
   "execution_count": 147,
   "metadata": {},
   "outputs": [
    {
     "data": {
      "text/plain": [
       "5853"
      ]
     },
     "execution_count": 147,
     "metadata": {},
     "output_type": "execute_result"
    }
   ],
   "source": [
    "len(df_2['ticker'].unique())"
   ]
  },
  {
   "cell_type": "code",
   "execution_count": 152,
   "metadata": {},
   "outputs": [],
   "source": [
    "class TickersIndicatorsDataset(Dataset):\n",
    "    \"\"\"\n",
    "    Tickers Indicators Dataset\n",
    "    \n",
    "    \"\"\"\n",
    "    def __init__(self, indicators_df, feature_names, target_name, n_pad):\n",
    "        \n",
    "        self.df = indicators_df.sort_values(by=['ticker', 'datekey'])\n",
    "        self.target = target_name\n",
    "        self.features = feature_names\n",
    "        self.ticker_list = self.df['ticker'].unique()\n",
    "        self.n_pad = n_pad\n",
    "        \n",
    "    def __len__(self):\n",
    "        return len(self.ticker_list)\n",
    "    \n",
    "    def __getitem__(self, idx):\n",
    "        ticker = self.ticker_list[idx]\n",
    "        X, y = get_padded_features(self.df, ticker=ticker, features = self.features, target = self.target, n_pad = self.n_pad)\n",
    "        return X,y"
   ]
  },
  {
   "cell_type": "code",
   "execution_count": 153,
   "metadata": {},
   "outputs": [],
   "source": [
    "td = TickersIndicatorsDataset(df_2, all_tickers, features, target, MAX_SEQ_LENGTH )"
   ]
  },
  {
   "cell_type": "code",
   "execution_count": 158,
   "metadata": {},
   "outputs": [
    {
     "data": {
      "text/plain": [
       "5853"
      ]
     },
     "execution_count": 158,
     "metadata": {},
     "output_type": "execute_result"
    }
   ],
   "source": [
    "len(td)"
   ]
  },
  {
   "cell_type": "markdown",
   "metadata": {},
   "source": [
    "### Pre-processing\n",
    "\n",
    "Scaling and imputation"
   ]
  },
  {
   "cell_type": "code",
   "execution_count": 206,
   "metadata": {},
   "outputs": [],
   "source": [
    "\n",
    "from sklearn import preprocessing\n",
    "from sklearn.preprocessing import Imputer"
   ]
  },
  {
   "cell_type": "code",
   "execution_count": 207,
   "metadata": {},
   "outputs": [],
   "source": [
    "test_ratio = 0.8\n",
    "\n",
    "test_idx = int(len(all_tickers)*test_ratio)"
   ]
  },
  {
   "cell_type": "code",
   "execution_count": 208,
   "metadata": {},
   "outputs": [],
   "source": [
    "train_tickers = all_tickers[:test_idx]\n",
    "test_tickers = all_tickers[test_idx:]"
   ]
  },
  {
   "cell_type": "code",
   "execution_count": 209,
   "metadata": {},
   "outputs": [],
   "source": [
    "df_train = df_2[df_2['ticker'].isin(train_tickers)][features]\n",
    "df_test = df_2[df_2['ticker'].isin(test_tickers)][features]"
   ]
  },
  {
   "cell_type": "code",
   "execution_count": null,
   "metadata": {},
   "outputs": [],
   "source": []
  },
  {
   "cell_type": "code",
   "execution_count": 210,
   "metadata": {},
   "outputs": [],
   "source": [
    "# Imputation\n",
    "\n",
    "imputer = Imputer(missing_values = 'NaN', strategy = 'mean', axis = 0)\n",
    "imputer = imputer.fit(df_train)\n",
    "\n",
    "df_train_imp = pd.DataFrame(imputer.transform(df_train))\n",
    "df_train_imp.columns = df_train.columns\n",
    "df_train_imp.index = df_train.index\n",
    "\n",
    "df_test_imp = pd.DataFrame(imputer.transform(df_test))\n",
    "df_test_imp.columns = df_test.columns\n",
    "df_test_imp.index = df_test.index"
   ]
  },
  {
   "cell_type": "code",
   "execution_count": 211,
   "metadata": {},
   "outputs": [],
   "source": [
    "# Scaler\n",
    "\n",
    "scaler = preprocessing.StandardScaler().fit(df_train_imp)\n",
    "\n",
    "df_train_imp = pd.DataFrame(scaler.transform(df_train_imp))\n",
    "df_train_imp.columns = df_train_imp.columns\n",
    "df_train_imp.index = df_train_imp.index\n",
    "\n",
    "\n",
    "df_test_imp = pd.DataFrame(scaler.transform(df_test_imp))\n",
    "df_test_imp.columns = df_test_imp.columns\n",
    "df_test_imp.index = df_test_imp.index"
   ]
  },
  {
   "cell_type": "code",
   "execution_count": 212,
   "metadata": {},
   "outputs": [
    {
     "data": {
      "text/html": [
       "<div>\n",
       "<style scoped>\n",
       "    .dataframe tbody tr th:only-of-type {\n",
       "        vertical-align: middle;\n",
       "    }\n",
       "\n",
       "    .dataframe tbody tr th {\n",
       "        vertical-align: top;\n",
       "    }\n",
       "\n",
       "    .dataframe thead th {\n",
       "        text-align: right;\n",
       "    }\n",
       "</style>\n",
       "<table border=\"1\" class=\"dataframe\">\n",
       "  <thead>\n",
       "    <tr style=\"text-align: right;\">\n",
       "      <th></th>\n",
       "      <th>0</th>\n",
       "      <th>1</th>\n",
       "      <th>2</th>\n",
       "      <th>3</th>\n",
       "      <th>4</th>\n",
       "      <th>5</th>\n",
       "      <th>6</th>\n",
       "      <th>7</th>\n",
       "      <th>8</th>\n",
       "      <th>9</th>\n",
       "      <th>...</th>\n",
       "      <th>16</th>\n",
       "      <th>17</th>\n",
       "      <th>18</th>\n",
       "      <th>19</th>\n",
       "      <th>20</th>\n",
       "      <th>21</th>\n",
       "      <th>22</th>\n",
       "      <th>23</th>\n",
       "      <th>24</th>\n",
       "      <th>25</th>\n",
       "    </tr>\n",
       "  </thead>\n",
       "  <tbody>\n",
       "    <tr>\n",
       "      <th>count</th>\n",
       "      <td>6.842900e+04</td>\n",
       "      <td>6.842900e+04</td>\n",
       "      <td>6.842900e+04</td>\n",
       "      <td>6.842900e+04</td>\n",
       "      <td>6.842900e+04</td>\n",
       "      <td>6.842900e+04</td>\n",
       "      <td>6.842900e+04</td>\n",
       "      <td>6.842900e+04</td>\n",
       "      <td>6.842900e+04</td>\n",
       "      <td>6.842900e+04</td>\n",
       "      <td>...</td>\n",
       "      <td>6.842900e+04</td>\n",
       "      <td>6.842900e+04</td>\n",
       "      <td>6.842900e+04</td>\n",
       "      <td>6.842900e+04</td>\n",
       "      <td>6.842900e+04</td>\n",
       "      <td>6.842900e+04</td>\n",
       "      <td>6.842900e+04</td>\n",
       "      <td>6.842900e+04</td>\n",
       "      <td>6.842900e+04</td>\n",
       "      <td>6.842900e+04</td>\n",
       "    </tr>\n",
       "    <tr>\n",
       "      <th>mean</th>\n",
       "      <td>-2.533088e-17</td>\n",
       "      <td>-3.719162e-17</td>\n",
       "      <td>-1.358063e-18</td>\n",
       "      <td>-9.689527e-17</td>\n",
       "      <td>-3.291140e-17</td>\n",
       "      <td>-2.445395e-17</td>\n",
       "      <td>-1.499807e-16</td>\n",
       "      <td>-1.759709e-17</td>\n",
       "      <td>5.413364e-18</td>\n",
       "      <td>2.519633e-17</td>\n",
       "      <td>...</td>\n",
       "      <td>-3.954913e-18</td>\n",
       "      <td>3.186084e-15</td>\n",
       "      <td>2.828784e-18</td>\n",
       "      <td>1.463309e-17</td>\n",
       "      <td>-1.548786e-16</td>\n",
       "      <td>1.101012e-17</td>\n",
       "      <td>1.497740e-17</td>\n",
       "      <td>-4.787725e-16</td>\n",
       "      <td>7.134753e-18</td>\n",
       "      <td>1.347931e-15</td>\n",
       "    </tr>\n",
       "    <tr>\n",
       "      <th>std</th>\n",
       "      <td>1.000007e+00</td>\n",
       "      <td>1.000007e+00</td>\n",
       "      <td>1.000007e+00</td>\n",
       "      <td>1.000007e+00</td>\n",
       "      <td>1.000007e+00</td>\n",
       "      <td>1.000007e+00</td>\n",
       "      <td>1.000007e+00</td>\n",
       "      <td>1.000007e+00</td>\n",
       "      <td>1.000007e+00</td>\n",
       "      <td>1.000007e+00</td>\n",
       "      <td>...</td>\n",
       "      <td>1.000007e+00</td>\n",
       "      <td>1.000007e+00</td>\n",
       "      <td>1.000007e+00</td>\n",
       "      <td>1.000007e+00</td>\n",
       "      <td>1.000007e+00</td>\n",
       "      <td>1.000007e+00</td>\n",
       "      <td>1.000007e+00</td>\n",
       "      <td>1.000007e+00</td>\n",
       "      <td>1.000007e+00</td>\n",
       "      <td>1.000007e+00</td>\n",
       "    </tr>\n",
       "    <tr>\n",
       "      <th>min</th>\n",
       "      <td>-2.796212e+01</td>\n",
       "      <td>-3.285323e-02</td>\n",
       "      <td>-4.112173e-02</td>\n",
       "      <td>-2.227163e-01</td>\n",
       "      <td>-3.753221e+01</td>\n",
       "      <td>-2.542331e+02</td>\n",
       "      <td>-7.250845e-03</td>\n",
       "      <td>-8.394614e+00</td>\n",
       "      <td>-2.586368e+02</td>\n",
       "      <td>-2.302151e+02</td>\n",
       "      <td>...</td>\n",
       "      <td>-1.449052e+02</td>\n",
       "      <td>-1.407114e+02</td>\n",
       "      <td>-5.766320e-02</td>\n",
       "      <td>-3.452951e-02</td>\n",
       "      <td>-7.701252e+01</td>\n",
       "      <td>-1.132936e+02</td>\n",
       "      <td>-1.438808e+02</td>\n",
       "      <td>-2.914078e-02</td>\n",
       "      <td>-7.546697e-03</td>\n",
       "      <td>-2.480739e+00</td>\n",
       "    </tr>\n",
       "    <tr>\n",
       "      <th>25%</th>\n",
       "      <td>-4.422694e-03</td>\n",
       "      <td>-2.950706e-02</td>\n",
       "      <td>-2.871455e-02</td>\n",
       "      <td>-2.163760e-01</td>\n",
       "      <td>-9.781616e-02</td>\n",
       "      <td>-1.953352e-04</td>\n",
       "      <td>-7.174306e-03</td>\n",
       "      <td>-3.289604e-02</td>\n",
       "      <td>4.874456e-04</td>\n",
       "      <td>-2.137017e-03</td>\n",
       "      <td>...</td>\n",
       "      <td>3.732821e-02</td>\n",
       "      <td>-1.132739e-01</td>\n",
       "      <td>-2.932452e-02</td>\n",
       "      <td>-1.608424e-02</td>\n",
       "      <td>2.240731e-02</td>\n",
       "      <td>-6.715649e-03</td>\n",
       "      <td>3.784058e-02</td>\n",
       "      <td>-2.914078e-02</td>\n",
       "      <td>-7.545391e-03</td>\n",
       "      <td>-7.975918e-01</td>\n",
       "    </tr>\n",
       "    <tr>\n",
       "      <th>50%</th>\n",
       "      <td>-4.422688e-03</td>\n",
       "      <td>-2.873547e-02</td>\n",
       "      <td>-1.823495e-02</td>\n",
       "      <td>-1.948123e-01</td>\n",
       "      <td>2.878401e-03</td>\n",
       "      <td>4.834451e-03</td>\n",
       "      <td>-7.171579e-03</td>\n",
       "      <td>-3.209679e-02</td>\n",
       "      <td>3.796015e-03</td>\n",
       "      <td>1.520966e-03</td>\n",
       "      <td>...</td>\n",
       "      <td>3.802403e-02</td>\n",
       "      <td>0.000000e+00</td>\n",
       "      <td>-2.872056e-02</td>\n",
       "      <td>-1.608336e-02</td>\n",
       "      <td>1.337234e-01</td>\n",
       "      <td>-5.902031e-03</td>\n",
       "      <td>3.858985e-02</td>\n",
       "      <td>-2.914078e-02</td>\n",
       "      <td>-7.543836e-03</td>\n",
       "      <td>4.188455e-02</td>\n",
       "    </tr>\n",
       "    <tr>\n",
       "      <th>75%</th>\n",
       "      <td>-4.422681e-03</td>\n",
       "      <td>-2.532646e-02</td>\n",
       "      <td>0.000000e+00</td>\n",
       "      <td>-1.123089e-01</td>\n",
       "      <td>7.159541e-02</td>\n",
       "      <td>8.195414e-03</td>\n",
       "      <td>-7.163544e-03</td>\n",
       "      <td>-3.031614e-02</td>\n",
       "      <td>5.639659e-03</td>\n",
       "      <td>4.053416e-03</td>\n",
       "      <td>...</td>\n",
       "      <td>3.883076e-02</td>\n",
       "      <td>1.622304e-01</td>\n",
       "      <td>-2.628507e-02</td>\n",
       "      <td>-1.608281e-02</td>\n",
       "      <td>1.935558e-01</td>\n",
       "      <td>-3.590614e-03</td>\n",
       "      <td>3.920424e-02</td>\n",
       "      <td>-5.541413e-03</td>\n",
       "      <td>-7.540753e-03</td>\n",
       "      <td>7.864544e-01</td>\n",
       "    </tr>\n",
       "    <tr>\n",
       "      <th>max</th>\n",
       "      <td>2.524381e+02</td>\n",
       "      <td>1.138286e+02</td>\n",
       "      <td>1.644662e+02</td>\n",
       "      <td>3.094016e+01</td>\n",
       "      <td>4.587229e+01</td>\n",
       "      <td>2.339506e+01</td>\n",
       "      <td>2.046693e+02</td>\n",
       "      <td>1.508173e+02</td>\n",
       "      <td>1.654687e+01</td>\n",
       "      <td>7.405064e+01</td>\n",
       "      <td>...</td>\n",
       "      <td>1.641346e+01</td>\n",
       "      <td>1.116306e+01</td>\n",
       "      <td>9.295070e+01</td>\n",
       "      <td>9.580551e+01</td>\n",
       "      <td>1.172869e+01</td>\n",
       "      <td>9.423931e+01</td>\n",
       "      <td>1.638943e+01</td>\n",
       "      <td>2.264067e+02</td>\n",
       "      <td>1.706178e+02</td>\n",
       "      <td>2.051699e+00</td>\n",
       "    </tr>\n",
       "  </tbody>\n",
       "</table>\n",
       "<p>8 rows × 26 columns</p>\n",
       "</div>"
      ],
      "text/plain": [
       "                 0             1             2             3             4   \\\n",
       "count  6.842900e+04  6.842900e+04  6.842900e+04  6.842900e+04  6.842900e+04   \n",
       "mean  -2.533088e-17 -3.719162e-17 -1.358063e-18 -9.689527e-17 -3.291140e-17   \n",
       "std    1.000007e+00  1.000007e+00  1.000007e+00  1.000007e+00  1.000007e+00   \n",
       "min   -2.796212e+01 -3.285323e-02 -4.112173e-02 -2.227163e-01 -3.753221e+01   \n",
       "25%   -4.422694e-03 -2.950706e-02 -2.871455e-02 -2.163760e-01 -9.781616e-02   \n",
       "50%   -4.422688e-03 -2.873547e-02 -1.823495e-02 -1.948123e-01  2.878401e-03   \n",
       "75%   -4.422681e-03 -2.532646e-02  0.000000e+00 -1.123089e-01  7.159541e-02   \n",
       "max    2.524381e+02  1.138286e+02  1.644662e+02  3.094016e+01  4.587229e+01   \n",
       "\n",
       "                 5             6             7             8             9   \\\n",
       "count  6.842900e+04  6.842900e+04  6.842900e+04  6.842900e+04  6.842900e+04   \n",
       "mean  -2.445395e-17 -1.499807e-16 -1.759709e-17  5.413364e-18  2.519633e-17   \n",
       "std    1.000007e+00  1.000007e+00  1.000007e+00  1.000007e+00  1.000007e+00   \n",
       "min   -2.542331e+02 -7.250845e-03 -8.394614e+00 -2.586368e+02 -2.302151e+02   \n",
       "25%   -1.953352e-04 -7.174306e-03 -3.289604e-02  4.874456e-04 -2.137017e-03   \n",
       "50%    4.834451e-03 -7.171579e-03 -3.209679e-02  3.796015e-03  1.520966e-03   \n",
       "75%    8.195414e-03 -7.163544e-03 -3.031614e-02  5.639659e-03  4.053416e-03   \n",
       "max    2.339506e+01  2.046693e+02  1.508173e+02  1.654687e+01  7.405064e+01   \n",
       "\n",
       "       ...            16            17            18            19  \\\n",
       "count  ...  6.842900e+04  6.842900e+04  6.842900e+04  6.842900e+04   \n",
       "mean   ... -3.954913e-18  3.186084e-15  2.828784e-18  1.463309e-17   \n",
       "std    ...  1.000007e+00  1.000007e+00  1.000007e+00  1.000007e+00   \n",
       "min    ... -1.449052e+02 -1.407114e+02 -5.766320e-02 -3.452951e-02   \n",
       "25%    ...  3.732821e-02 -1.132739e-01 -2.932452e-02 -1.608424e-02   \n",
       "50%    ...  3.802403e-02  0.000000e+00 -2.872056e-02 -1.608336e-02   \n",
       "75%    ...  3.883076e-02  1.622304e-01 -2.628507e-02 -1.608281e-02   \n",
       "max    ...  1.641346e+01  1.116306e+01  9.295070e+01  9.580551e+01   \n",
       "\n",
       "                 20            21            22            23            24  \\\n",
       "count  6.842900e+04  6.842900e+04  6.842900e+04  6.842900e+04  6.842900e+04   \n",
       "mean  -1.548786e-16  1.101012e-17  1.497740e-17 -4.787725e-16  7.134753e-18   \n",
       "std    1.000007e+00  1.000007e+00  1.000007e+00  1.000007e+00  1.000007e+00   \n",
       "min   -7.701252e+01 -1.132936e+02 -1.438808e+02 -2.914078e-02 -7.546697e-03   \n",
       "25%    2.240731e-02 -6.715649e-03  3.784058e-02 -2.914078e-02 -7.545391e-03   \n",
       "50%    1.337234e-01 -5.902031e-03  3.858985e-02 -2.914078e-02 -7.543836e-03   \n",
       "75%    1.935558e-01 -3.590614e-03  3.920424e-02 -5.541413e-03 -7.540753e-03   \n",
       "max    1.172869e+01  9.423931e+01  1.638943e+01  2.264067e+02  1.706178e+02   \n",
       "\n",
       "                 25  \n",
       "count  6.842900e+04  \n",
       "mean   1.347931e-15  \n",
       "std    1.000007e+00  \n",
       "min   -2.480739e+00  \n",
       "25%   -7.975918e-01  \n",
       "50%    4.188455e-02  \n",
       "75%    7.864544e-01  \n",
       "max    2.051699e+00  \n",
       "\n",
       "[8 rows x 26 columns]"
      ]
     },
     "execution_count": 212,
     "metadata": {},
     "output_type": "execute_result"
    }
   ],
   "source": [
    "df_train_imp.describe()"
   ]
  },
  {
   "cell_type": "markdown",
   "metadata": {},
   "source": [
    "## LSTM Model"
   ]
  },
  {
   "cell_type": "code",
   "execution_count": 166,
   "metadata": {},
   "outputs": [],
   "source": [
    "import torch\n",
    "import torch.nn as nn\n",
    "import torch.nn.functional as F\n",
    "import torch.optim as optim\n"
   ]
  },
  {
   "cell_type": "code",
   "execution_count": 169,
   "metadata": {},
   "outputs": [],
   "source": []
  },
  {
   "cell_type": "code",
   "execution_count": 162,
   "metadata": {},
   "outputs": [],
   "source": [
    "class Model(nn.Module):\n",
    "    \n",
    "    def __init__(self, feature_size, n_activation = 20):\n",
    "        super(Model, self).__init__()\n",
    "        \n",
    "        self.n_activation = n_activation\n",
    "        \n",
    "        # LSTM parameters - input feature size X, number of units in hidden layer.\n",
    "        \n",
    "        self.lstm = nn.LSTM(feature_size, n_activation)        \n",
    "        self.out = nn.Linear(n_activation, 1)\n",
    "    \n",
    "    def forward(self, x):\n",
    "        \n",
    "        # x has dimension of [batch_size, sequence size]       \n",
    "        \n",
    "        # Here h_lstm contains hidden activations from all sequences, dimension: [batch_size, seq_size, n_activation]\n",
    "        h_lstm, (h_n, c_n) = self.lstm(h_embedding)\n",
    "        out = F.sigmoid(self.out(h_lstm))\n",
    "        return out"
   ]
  },
  {
   "cell_type": "code",
   "execution_count": null,
   "metadata": {},
   "outputs": [],
   "source": []
  }
 ],
 "metadata": {
  "kernelspec": {
   "display_name": "Python 3",
   "language": "python",
   "name": "python3"
  },
  "language_info": {
   "codemirror_mode": {
    "name": "ipython",
    "version": 3
   },
   "file_extension": ".py",
   "mimetype": "text/x-python",
   "name": "python",
   "nbconvert_exporter": "python",
   "pygments_lexer": "ipython3",
   "version": "3.7.3"
  }
 },
 "nbformat": 4,
 "nbformat_minor": 2
}
