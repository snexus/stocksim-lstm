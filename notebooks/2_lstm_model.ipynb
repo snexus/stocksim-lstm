{
 "cells": [
  {
   "cell_type": "markdown",
   "metadata": {},
   "source": [
    "# LSTM model\n",
    "\n",
    "## Architecture\n",
    "\n",
    "Many-to-many\n",
    "\n",
    "## DataSet implementation\n",
    "\n",
    "- Index is ticker based (create dictionary)\n",
    "- Analysis on padding\n",
    "\n"
   ]
  },
  {
   "cell_type": "markdown",
   "metadata": {},
   "source": [
    "### Configuration parameters"
   ]
  },
  {
   "cell_type": "code",
   "execution_count": 549,
   "metadata": {},
   "outputs": [],
   "source": [
    "TRANSFORMED_DATA_FN = \"../data/transformed/data.csv\" # Data\n",
    "TRANSFORMED_META_FN = \"../data/transformed/data.json\" # Metadata\n",
    "\n",
    "MAX_SEQ_LENGTH = 4"
   ]
  },
  {
   "cell_type": "code",
   "execution_count": null,
   "metadata": {},
   "outputs": [],
   "source": []
  },
  {
   "cell_type": "code",
   "execution_count": 550,
   "metadata": {},
   "outputs": [],
   "source": [
    "import pandas as pd\n",
    "import numpy as np\n",
    "import matplotlib.pyplot as plt\n",
    "import json\n",
    "\n",
    "import seaborn as sns\n",
    "\n",
    "sns.set_style(\"whitegrid\")"
   ]
  },
  {
   "cell_type": "markdown",
   "metadata": {},
   "source": [
    "### Load data"
   ]
  },
  {
   "cell_type": "code",
   "execution_count": 551,
   "metadata": {},
   "outputs": [],
   "source": [
    "df_1 = pd.read_csv(TRANSFORMED_DATA_FN)"
   ]
  },
  {
   "cell_type": "code",
   "execution_count": 552,
   "metadata": {},
   "outputs": [],
   "source": [
    "# Convert datetimes\n",
    "\n",
    "for col in ('calendardate', 'datekey', 'reportperiod', 'lastupdated'):\n",
    "    df_1[col] = pd.to_datetime(df_1[col])"
   ]
  },
  {
   "cell_type": "code",
   "execution_count": 553,
   "metadata": {},
   "outputs": [],
   "source": [
    "df_2 = df_1.sort_values(by=['ticker', 'datekey'])"
   ]
  },
  {
   "cell_type": "code",
   "execution_count": 554,
   "metadata": {},
   "outputs": [
    {
     "data": {
      "text/html": [
       "<div>\n",
       "<style scoped>\n",
       "    .dataframe tbody tr th:only-of-type {\n",
       "        vertical-align: middle;\n",
       "    }\n",
       "\n",
       "    .dataframe tbody tr th {\n",
       "        vertical-align: top;\n",
       "    }\n",
       "\n",
       "    .dataframe thead th {\n",
       "        text-align: right;\n",
       "    }\n",
       "</style>\n",
       "<table border=\"1\" class=\"dataframe\">\n",
       "  <thead>\n",
       "    <tr style=\"text-align: right;\">\n",
       "      <th></th>\n",
       "      <th>ticker</th>\n",
       "      <th>exchange</th>\n",
       "      <th>siccode</th>\n",
       "      <th>dimension</th>\n",
       "      <th>calendardate</th>\n",
       "      <th>datekey</th>\n",
       "      <th>reportperiod</th>\n",
       "      <th>lastupdated</th>\n",
       "      <th>accoci</th>\n",
       "      <th>assets</th>\n",
       "      <th>...</th>\n",
       "      <th>sps</th>\n",
       "      <th>tangibles</th>\n",
       "      <th>taxassets</th>\n",
       "      <th>taxexp</th>\n",
       "      <th>taxliabilities</th>\n",
       "      <th>tbvps</th>\n",
       "      <th>workingcapital</th>\n",
       "      <th>price_shifted</th>\n",
       "      <th>pct_change_shifted</th>\n",
       "      <th>class1</th>\n",
       "    </tr>\n",
       "  </thead>\n",
       "  <tbody>\n",
       "    <tr>\n",
       "      <th>0</th>\n",
       "      <td>A</td>\n",
       "      <td>NYSE</td>\n",
       "      <td>3826.0</td>\n",
       "      <td>ART</td>\n",
       "      <td>2014-03-31</td>\n",
       "      <td>2014-06-04</td>\n",
       "      <td>2014-04-30</td>\n",
       "      <td>2019-08-30</td>\n",
       "      <td>132000000.0</td>\n",
       "      <td>1.102600e+10</td>\n",
       "      <td>...</td>\n",
       "      <td>20.360</td>\n",
       "      <td>7.134000e+09</td>\n",
       "      <td>0.0</td>\n",
       "      <td>130000000.0</td>\n",
       "      <td>0.0</td>\n",
       "      <td>21.423</td>\n",
       "      <td>3.658000e+09</td>\n",
       "      <td>58.07</td>\n",
       "      <td>0.010792</td>\n",
       "      <td>0</td>\n",
       "    </tr>\n",
       "    <tr>\n",
       "      <th>1</th>\n",
       "      <td>A</td>\n",
       "      <td>NYSE</td>\n",
       "      <td>3826.0</td>\n",
       "      <td>ART</td>\n",
       "      <td>2014-06-30</td>\n",
       "      <td>2014-09-02</td>\n",
       "      <td>2014-07-31</td>\n",
       "      <td>2019-08-30</td>\n",
       "      <td>53000000.0</td>\n",
       "      <td>1.038000e+10</td>\n",
       "      <td>...</td>\n",
       "      <td>20.641</td>\n",
       "      <td>6.610000e+09</td>\n",
       "      <td>0.0</td>\n",
       "      <td>123000000.0</td>\n",
       "      <td>0.0</td>\n",
       "      <td>19.790</td>\n",
       "      <td>3.255000e+09</td>\n",
       "      <td>41.88</td>\n",
       "      <td>-0.278801</td>\n",
       "      <td>0</td>\n",
       "    </tr>\n",
       "    <tr>\n",
       "      <th>2</th>\n",
       "      <td>A</td>\n",
       "      <td>NYSE</td>\n",
       "      <td>3826.0</td>\n",
       "      <td>ART</td>\n",
       "      <td>2014-09-30</td>\n",
       "      <td>2014-12-22</td>\n",
       "      <td>2014-10-31</td>\n",
       "      <td>2019-08-30</td>\n",
       "      <td>-334000000.0</td>\n",
       "      <td>1.083100e+10</td>\n",
       "      <td>...</td>\n",
       "      <td>20.964</td>\n",
       "      <td>7.265000e+09</td>\n",
       "      <td>0.0</td>\n",
       "      <td>142000000.0</td>\n",
       "      <td>0.0</td>\n",
       "      <td>21.817</td>\n",
       "      <td>3.798000e+09</td>\n",
       "      <td>40.63</td>\n",
       "      <td>-0.029847</td>\n",
       "      <td>0</td>\n",
       "    </tr>\n",
       "    <tr>\n",
       "      <th>3</th>\n",
       "      <td>A</td>\n",
       "      <td>NYSE</td>\n",
       "      <td>3826.0</td>\n",
       "      <td>ART</td>\n",
       "      <td>2014-12-31</td>\n",
       "      <td>2015-03-10</td>\n",
       "      <td>2015-01-31</td>\n",
       "      <td>2019-08-30</td>\n",
       "      <td>-261000000.0</td>\n",
       "      <td>7.519000e+09</td>\n",
       "      <td>...</td>\n",
       "      <td>18.833</td>\n",
       "      <td>4.608000e+09</td>\n",
       "      <td>0.0</td>\n",
       "      <td>157000000.0</td>\n",
       "      <td>0.0</td>\n",
       "      <td>13.714</td>\n",
       "      <td>2.726000e+09</td>\n",
       "      <td>40.31</td>\n",
       "      <td>-0.007876</td>\n",
       "      <td>0</td>\n",
       "    </tr>\n",
       "    <tr>\n",
       "      <th>4</th>\n",
       "      <td>A</td>\n",
       "      <td>NYSE</td>\n",
       "      <td>3826.0</td>\n",
       "      <td>ART</td>\n",
       "      <td>2015-03-31</td>\n",
       "      <td>2015-06-05</td>\n",
       "      <td>2015-04-30</td>\n",
       "      <td>2019-08-30</td>\n",
       "      <td>-270000000.0</td>\n",
       "      <td>7.412000e+09</td>\n",
       "      <td>...</td>\n",
       "      <td>16.647</td>\n",
       "      <td>4.555000e+09</td>\n",
       "      <td>0.0</td>\n",
       "      <td>118000000.0</td>\n",
       "      <td>0.0</td>\n",
       "      <td>13.638</td>\n",
       "      <td>2.690000e+09</td>\n",
       "      <td>35.53</td>\n",
       "      <td>-0.118581</td>\n",
       "      <td>0</td>\n",
       "    </tr>\n",
       "  </tbody>\n",
       "</table>\n",
       "<p>5 rows × 116 columns</p>\n",
       "</div>"
      ],
      "text/plain": [
       "  ticker exchange  siccode dimension calendardate    datekey reportperiod  \\\n",
       "0      A     NYSE   3826.0       ART   2014-03-31 2014-06-04   2014-04-30   \n",
       "1      A     NYSE   3826.0       ART   2014-06-30 2014-09-02   2014-07-31   \n",
       "2      A     NYSE   3826.0       ART   2014-09-30 2014-12-22   2014-10-31   \n",
       "3      A     NYSE   3826.0       ART   2014-12-31 2015-03-10   2015-01-31   \n",
       "4      A     NYSE   3826.0       ART   2015-03-31 2015-06-05   2015-04-30   \n",
       "\n",
       "  lastupdated       accoci        assets  ...     sps     tangibles  \\\n",
       "0  2019-08-30  132000000.0  1.102600e+10  ...  20.360  7.134000e+09   \n",
       "1  2019-08-30   53000000.0  1.038000e+10  ...  20.641  6.610000e+09   \n",
       "2  2019-08-30 -334000000.0  1.083100e+10  ...  20.964  7.265000e+09   \n",
       "3  2019-08-30 -261000000.0  7.519000e+09  ...  18.833  4.608000e+09   \n",
       "4  2019-08-30 -270000000.0  7.412000e+09  ...  16.647  4.555000e+09   \n",
       "\n",
       "   taxassets       taxexp  taxliabilities   tbvps  workingcapital  \\\n",
       "0        0.0  130000000.0             0.0  21.423    3.658000e+09   \n",
       "1        0.0  123000000.0             0.0  19.790    3.255000e+09   \n",
       "2        0.0  142000000.0             0.0  21.817    3.798000e+09   \n",
       "3        0.0  157000000.0             0.0  13.714    2.726000e+09   \n",
       "4        0.0  118000000.0             0.0  13.638    2.690000e+09   \n",
       "\n",
       "   price_shifted  pct_change_shifted  class1  \n",
       "0          58.07            0.010792       0  \n",
       "1          41.88           -0.278801       0  \n",
       "2          40.63           -0.029847       0  \n",
       "3          40.31           -0.007876       0  \n",
       "4          35.53           -0.118581       0  \n",
       "\n",
       "[5 rows x 116 columns]"
      ]
     },
     "execution_count": 554,
     "metadata": {},
     "output_type": "execute_result"
    }
   ],
   "source": [
    "df_2.head()"
   ]
  },
  {
   "cell_type": "code",
   "execution_count": 555,
   "metadata": {},
   "outputs": [],
   "source": [
    "# Break down the temporal chains\n",
    "\n",
    "tickers = df_2['ticker'].values\n",
    "max_count = MAX_SEQ_LENGTH\n",
    "\n",
    "prev_ticker = tickers[0]\n",
    "output_tickers = [prev_ticker+\"_0\"]\n",
    "counter = 0\n",
    "append_index = 0\n",
    "\n",
    "for ticker in tickers[1:]:\n",
    "    if ticker == prev_ticker:\n",
    "        counter +=1        \n",
    "    else:\n",
    "        counter = 0\n",
    "        append_index = 0\n",
    "    if counter == max_count:\n",
    "        counter = 0\n",
    "        append_index +=1\n",
    "    output_tickers.append(ticker+\"_{}\".format(append_index))\n",
    "    prev_ticker = ticker\n",
    "    \n",
    "assert len(output_tickers) == len(tickers)\n",
    "output_tickers[:22]\n",
    "tickers[:22]\n",
    "\n",
    "df_2['ticker'] = output_tickers"
   ]
  },
  {
   "cell_type": "code",
   "execution_count": null,
   "metadata": {},
   "outputs": [],
   "source": []
  },
  {
   "cell_type": "code",
   "execution_count": null,
   "metadata": {},
   "outputs": [],
   "source": []
  },
  {
   "cell_type": "code",
   "execution_count": null,
   "metadata": {},
   "outputs": [],
   "source": []
  },
  {
   "cell_type": "code",
   "execution_count": 556,
   "metadata": {},
   "outputs": [],
   "source": [
    "with open(TRANSFORMED_META_FN, 'r') as fp:\n",
    "    metadata = json.load(fp)\n",
    "    \n",
    "features = metadata['features'].split(\",\")\n",
    "target = metadata['target']\n",
    "#target='pct_change_shifted'"
   ]
  },
  {
   "cell_type": "code",
   "execution_count": 557,
   "metadata": {},
   "outputs": [],
   "source": [
    "features = [ 'assets', 'assetsavg', 'assetsc',\n",
    "       'assetsnc', 'assetturnover', 'bvps', 'capex', 'cashneq',\n",
    "       'cashnequsd', 'cor', 'consolinc', 'currentratio', 'de', 'debt',\n",
    "       'debtc', 'debtnc', 'debtusd', 'deferredrev', 'depamor', 'deposits',\n",
    "       'divyield', 'dps', 'ebit', 'ebitda', 'ebitdamargin', 'ebitdausd',\n",
    "       'ebitusd', 'ebt', 'eps', 'epsdil', 'epsusd', 'equity', 'equityavg',\n",
    "       'equityusd', 'ev', 'evebit', 'evebitda', 'fcf', 'fcfps', 'fxusd',\n",
    "       'gp', 'grossmargin', 'intangibles', 'intexp', 'invcap',\n",
    "       'invcapavg', 'inventory', 'investments', 'investmentsc',\n",
    "       'investmentsnc', 'liabilities', 'liabilitiesc', 'liabilitiesnc',\n",
    "       'marketcap', 'ncf', 'ncfbus', 'ncfcommon', 'ncfdebt', 'ncfdiv',\n",
    "       'ncff', 'ncfi', 'ncfinv', 'ncfo', 'ncfx', 'netinc', 'netinccmn',\n",
    "       'netinccmnusd', 'netincdis', 'netincnci', 'netmargin', 'opex',\n",
    "       'opinc', 'payables', 'payoutratio', 'pb', 'pe', 'pe1', 'ppnenet',\n",
    "       'prefdivis', 'price', 'ps', 'ps1', 'receivables', 'retearn',\n",
    "       'revenue', 'revenueusd', 'rnd', 'roa', 'roe', 'roic', 'ros',\n",
    "       'sbcomp', 'sgna', 'sharefactor', 'sharesbas', 'shareswa',\n",
    "       'shareswadil', 'sps', 'tangibles', 'taxassets', 'taxexp',\n",
    "       'taxliabilities', 'tbvps', 'workingcapital']"
   ]
  },
  {
   "cell_type": "code",
   "execution_count": null,
   "metadata": {},
   "outputs": [],
   "source": []
  },
  {
   "cell_type": "code",
   "execution_count": null,
   "metadata": {},
   "outputs": [],
   "source": []
  },
  {
   "cell_type": "code",
   "execution_count": 558,
   "metadata": {},
   "outputs": [],
   "source": [
    "seq_lengths = df_2.groupby('ticker').count()['datekey'].values\n"
   ]
  },
  {
   "cell_type": "code",
   "execution_count": 559,
   "metadata": {},
   "outputs": [
    {
     "data": {
      "image/png": "[encoded data removed]",
      "text/plain": [
       "<Figure size 432x288 with 1 Axes>"
      ]
     },
     "metadata": {},
     "output_type": "display_data"
    }
   ],
   "source": [
    "sns.distplot(seq_lengths, bins = 20);\n",
    "plt.title(\"Distribution of sequence lengths\");"
   ]
  },
  {
   "cell_type": "code",
   "execution_count": 560,
   "metadata": {},
   "outputs": [
    {
     "data": {
      "text/plain": [
       "4"
      ]
     },
     "execution_count": 560,
     "metadata": {},
     "output_type": "execute_result"
    }
   ],
   "source": [
    "max(seq_lengths)"
   ]
  },
  {
   "cell_type": "code",
   "execution_count": 561,
   "metadata": {},
   "outputs": [
    {
     "name": "stdout",
     "output_type": "stream",
     "text": [
      "Maximum sequence length:  4\n"
     ]
    }
   ],
   "source": [
    "print(\"Maximum sequence length: \", max(seq_lengths))"
   ]
  },
  {
   "cell_type": "code",
   "execution_count": null,
   "metadata": {},
   "outputs": [],
   "source": []
  },
  {
   "cell_type": "code",
   "execution_count": 562,
   "metadata": {},
   "outputs": [],
   "source": [
    "def get_padded_features(sorted_df, ticker, features, target, n_pad):\n",
    "    \"\"\" Return padded features and target\n",
    "    \n",
    "    Arguments\n",
    "    ---------\n",
    "    \n",
    "    sorted_df : Pandas dataframe\n",
    "        Dataframe with indicators, sorted by ticker and datekey        \n",
    "    ticker : str\n",
    "        Ticker name\n",
    "    features : list\n",
    "        Feature names        \n",
    "    target : str\n",
    "        Target name\n",
    "    pad : int\n",
    "        Pad length\n",
    "    \n",
    "    Returns\n",
    "    -------\n",
    "    padded_features : ndarray with shape (n_pad, n_features)\n",
    "    target : ndarray with shape (n_pad,1)\n",
    "    \n",
    "    \"\"\"\n",
    "    \n",
    "    n_features = len(features)\n",
    "    \n",
    "    ticker_data = sorted_df.loc[sorted_df['ticker'] == ticker, :]\n",
    "    \n",
    "    ticker_features = ticker_data.loc[:, features]\n",
    "    ticker_target = ticker_data.loc[:, target]\n",
    "    \n",
    "    out_features = np.zeros((n_pad, n_features))\n",
    "    out_target = np.zeros((n_pad, 1))\n",
    "    \n",
    "    out_features[0:len(ticker_features)] = ticker_features.values\n",
    "    out_target[0:len(ticker_features)] = ticker_target.values.reshape(-1,1)\n",
    "    \n",
    "    return out_features, out_target, len(ticker_features)"
   ]
  },
  {
   "cell_type": "code",
   "execution_count": 563,
   "metadata": {},
   "outputs": [],
   "source": [
    "feat_array, target_array, len_ticker = get_padded_features(df_2, ticker='GEN', features = features, target = target, n_pad = MAX_SEQ_LENGTH)"
   ]
  },
  {
   "cell_type": "code",
   "execution_count": null,
   "metadata": {},
   "outputs": [],
   "source": []
  },
  {
   "cell_type": "code",
   "execution_count": 564,
   "metadata": {},
   "outputs": [
    {
     "data": {
      "text/plain": [
       "((4, 104), (4, 1))"
      ]
     },
     "execution_count": 564,
     "metadata": {},
     "output_type": "execute_result"
    }
   ],
   "source": [
    "feat_array.shape, target_array.shape"
   ]
  },
  {
   "cell_type": "code",
   "execution_count": null,
   "metadata": {},
   "outputs": [],
   "source": []
  },
  {
   "cell_type": "markdown",
   "metadata": {},
   "source": [
    "### Prepare data"
   ]
  },
  {
   "cell_type": "code",
   "execution_count": 565,
   "metadata": {},
   "outputs": [],
   "source": [
    "from torch.utils.data import Dataset, DataLoader"
   ]
  },
  {
   "cell_type": "code",
   "execution_count": 566,
   "metadata": {},
   "outputs": [],
   "source": [
    "# Create unique ticker list and shuffle\n",
    "\n",
    "all_tickers = df_2['ticker'].unique()\n",
    "np.random.shuffle(all_tickers)"
   ]
  },
  {
   "cell_type": "code",
   "execution_count": 567,
   "metadata": {},
   "outputs": [
    {
     "data": {
      "text/plain": [
       "24478"
      ]
     },
     "execution_count": 567,
     "metadata": {},
     "output_type": "execute_result"
    }
   ],
   "source": [
    "len(df_2['ticker'].unique())"
   ]
  },
  {
   "cell_type": "code",
   "execution_count": 568,
   "metadata": {},
   "outputs": [],
   "source": [
    "class TickersIndicatorsDataset(Dataset):\n",
    "    \"\"\"\n",
    "    Tickers Indicators Dataset\n",
    "    \n",
    "    \"\"\"\n",
    "    def __init__(self, indicators_df, feature_names, target_name, n_pad):\n",
    "        \n",
    "        self.df = indicators_df.sort_values(by=['ticker', 'datekey'])\n",
    "        self.target = target_name\n",
    "        self.features = feature_names\n",
    "        self.ticker_list = self.df['ticker'].unique()\n",
    "        self.n_pad = n_pad\n",
    "        \n",
    "    def __len__(self):\n",
    "        return len(self.ticker_list)\n",
    "    \n",
    "    def __getitem__(self, idx):\n",
    "        \n",
    "        ticker = self.ticker_list[idx]\n",
    "        X, y, len_ticker = get_padded_features(self.df, ticker=ticker, features = self.features, target = self.target, n_pad = self.n_pad)\n",
    "        \n",
    "        return torch.from_numpy(X).float(),  torch.tensor(y, dtype=torch.float32), len_ticker"
   ]
  },
  {
   "cell_type": "code",
   "execution_count": 569,
   "metadata": {},
   "outputs": [],
   "source": [
    "td = TickersIndicatorsDataset(df_2, features, target, MAX_SEQ_LENGTH )"
   ]
  },
  {
   "cell_type": "code",
   "execution_count": 570,
   "metadata": {},
   "outputs": [
    {
     "data": {
      "text/plain": [
       "24478"
      ]
     },
     "execution_count": 570,
     "metadata": {},
     "output_type": "execute_result"
    }
   ],
   "source": [
    "len(td)"
   ]
  },
  {
   "cell_type": "markdown",
   "metadata": {},
   "source": [
    "### Pre-processing\n",
    "\n",
    "Scaling and imputation"
   ]
  },
  {
   "cell_type": "code",
   "execution_count": 571,
   "metadata": {},
   "outputs": [],
   "source": [
    "\n",
    "from sklearn import preprocessing\n",
    "from sklearn.preprocessing import Imputer"
   ]
  },
  {
   "cell_type": "code",
   "execution_count": 572,
   "metadata": {},
   "outputs": [],
   "source": [
    "test_ratio = 0.5\n",
    "\n",
    "test_idx = int(len(all_tickers)*test_ratio)\n",
    "test_idx = 3000"
   ]
  },
  {
   "cell_type": "code",
   "execution_count": 573,
   "metadata": {},
   "outputs": [],
   "source": [
    "train_tickers = all_tickers[:test_idx]\n",
    "test_tickers = all_tickers[test_idx:test_idx+1000]"
   ]
  },
  {
   "cell_type": "code",
   "execution_count": 574,
   "metadata": {},
   "outputs": [],
   "source": [
    "df_train_all = df_2[df_2['ticker'].isin(train_tickers)]\n",
    "df_test_all = df_2[df_2['ticker'].isin(test_tickers)]\n",
    "\n",
    "df_train = df_train_all[features]\n",
    "df_test = df_test_all[features]"
   ]
  },
  {
   "cell_type": "code",
   "execution_count": 575,
   "metadata": {},
   "outputs": [],
   "source": [
    "# Imputation\n",
    "\n",
    "imputer = Imputer(missing_values = 'NaN', strategy = 'mean', axis = 0)\n",
    "imputer = imputer.fit(df_train)\n",
    "\n",
    "df_train_imp = pd.DataFrame(imputer.transform(df_train))\n",
    "df_train_imp.columns = df_train.columns\n",
    "df_train_imp.index = df_train.index\n",
    "\n",
    "df_test_imp = pd.DataFrame(imputer.transform(df_test))\n",
    "df_test_imp.columns = df_test.columns\n",
    "df_test_imp.index = df_test.index"
   ]
  },
  {
   "cell_type": "code",
   "execution_count": 576,
   "metadata": {},
   "outputs": [
    {
     "data": {
      "text/plain": [
       "Imputer(axis=0, copy=True, missing_values='NaN', strategy='mean', verbose=0)"
      ]
     },
     "execution_count": 576,
     "metadata": {},
     "output_type": "execute_result"
    }
   ],
   "source": [
    "imputer"
   ]
  },
  {
   "cell_type": "code",
   "execution_count": 577,
   "metadata": {},
   "outputs": [],
   "source": [
    "# Scaler\n",
    "\n",
    "scaler = preprocessing.StandardScaler().fit(df_train_imp)\n",
    "\n",
    "cols, idx = df_train_imp.columns, df_train_imp.index\n",
    "df_train_imp = pd.DataFrame(scaler.transform(df_train_imp))\n",
    "df_train_imp.columns = cols\n",
    "df_train_imp.index = idx\n",
    "\n",
    "cols, idx = df_test_imp.columns, df_test_imp.index\n",
    "df_test_imp = pd.DataFrame(scaler.transform(df_test_imp))\n",
    "df_test_imp.columns = cols\n",
    "df_test_imp.index = idx"
   ]
  },
  {
   "cell_type": "code",
   "execution_count": null,
   "metadata": {},
   "outputs": [],
   "source": []
  },
  {
   "cell_type": "code",
   "execution_count": 578,
   "metadata": {},
   "outputs": [],
   "source": [
    "meta_cols = ['ticker', 'datekey',target]\n",
    "\n",
    "df_train_imp[meta_cols] = df_train_all[meta_cols]\n",
    "df_test_imp[meta_cols] = df_test_all[meta_cols]"
   ]
  },
  {
   "cell_type": "code",
   "execution_count": null,
   "metadata": {},
   "outputs": [],
   "source": []
  },
  {
   "cell_type": "code",
   "execution_count": 579,
   "metadata": {},
   "outputs": [
    {
     "data": {
      "text/html": [
       "<div>\n",
       "<style scoped>\n",
       "    .dataframe tbody tr th:only-of-type {\n",
       "        vertical-align: middle;\n",
       "    }\n",
       "\n",
       "    .dataframe tbody tr th {\n",
       "        vertical-align: top;\n",
       "    }\n",
       "\n",
       "    .dataframe thead th {\n",
       "        text-align: right;\n",
       "    }\n",
       "</style>\n",
       "<table border=\"1\" class=\"dataframe\">\n",
       "  <thead>\n",
       "    <tr style=\"text-align: right;\">\n",
       "      <th></th>\n",
       "      <th>assets</th>\n",
       "      <th>assetsavg</th>\n",
       "      <th>assetsc</th>\n",
       "      <th>assetsnc</th>\n",
       "      <th>assetturnover</th>\n",
       "      <th>bvps</th>\n",
       "      <th>capex</th>\n",
       "      <th>cashneq</th>\n",
       "      <th>cashnequsd</th>\n",
       "      <th>cor</th>\n",
       "      <th>...</th>\n",
       "      <th>shareswa</th>\n",
       "      <th>shareswadil</th>\n",
       "      <th>sps</th>\n",
       "      <th>tangibles</th>\n",
       "      <th>taxassets</th>\n",
       "      <th>taxexp</th>\n",
       "      <th>taxliabilities</th>\n",
       "      <th>tbvps</th>\n",
       "      <th>workingcapital</th>\n",
       "      <th>class1</th>\n",
       "    </tr>\n",
       "  </thead>\n",
       "  <tbody>\n",
       "    <tr>\n",
       "      <th>count</th>\n",
       "      <td>1.037900e+04</td>\n",
       "      <td>1.037900e+04</td>\n",
       "      <td>1.037900e+04</td>\n",
       "      <td>1.037900e+04</td>\n",
       "      <td>1.037900e+04</td>\n",
       "      <td>1.037900e+04</td>\n",
       "      <td>1.037900e+04</td>\n",
       "      <td>1.037900e+04</td>\n",
       "      <td>1.037900e+04</td>\n",
       "      <td>1.037900e+04</td>\n",
       "      <td>...</td>\n",
       "      <td>1.037900e+04</td>\n",
       "      <td>1.037900e+04</td>\n",
       "      <td>1.037900e+04</td>\n",
       "      <td>1.037900e+04</td>\n",
       "      <td>1.037900e+04</td>\n",
       "      <td>1.037900e+04</td>\n",
       "      <td>1.037900e+04</td>\n",
       "      <td>1.037900e+04</td>\n",
       "      <td>1.037900e+04</td>\n",
       "      <td>10379.000000</td>\n",
       "    </tr>\n",
       "    <tr>\n",
       "      <th>mean</th>\n",
       "      <td>3.704342e-17</td>\n",
       "      <td>-4.487918e-17</td>\n",
       "      <td>2.847694e-17</td>\n",
       "      <td>-4.616614e-17</td>\n",
       "      <td>2.855516e-17</td>\n",
       "      <td>-2.413320e-17</td>\n",
       "      <td>4.907167e-19</td>\n",
       "      <td>-3.113811e-17</td>\n",
       "      <td>4.638008e-17</td>\n",
       "      <td>-2.762073e-16</td>\n",
       "      <td>...</td>\n",
       "      <td>-3.143127e-17</td>\n",
       "      <td>6.814410e-17</td>\n",
       "      <td>-7.806339e-17</td>\n",
       "      <td>3.884484e-17</td>\n",
       "      <td>-1.072122e-15</td>\n",
       "      <td>-2.436475e-16</td>\n",
       "      <td>1.801973e-16</td>\n",
       "      <td>-4.920538e-19</td>\n",
       "      <td>6.140309e-18</td>\n",
       "      <td>0.066962</td>\n",
       "    </tr>\n",
       "    <tr>\n",
       "      <th>std</th>\n",
       "      <td>1.000048e+00</td>\n",
       "      <td>1.000048e+00</td>\n",
       "      <td>1.000048e+00</td>\n",
       "      <td>1.000048e+00</td>\n",
       "      <td>1.000048e+00</td>\n",
       "      <td>1.000048e+00</td>\n",
       "      <td>1.000048e+00</td>\n",
       "      <td>1.000048e+00</td>\n",
       "      <td>1.000048e+00</td>\n",
       "      <td>1.000048e+00</td>\n",
       "      <td>...</td>\n",
       "      <td>1.000048e+00</td>\n",
       "      <td>1.000048e+00</td>\n",
       "      <td>1.000048e+00</td>\n",
       "      <td>1.000048e+00</td>\n",
       "      <td>1.000048e+00</td>\n",
       "      <td>1.000048e+00</td>\n",
       "      <td>1.000048e+00</td>\n",
       "      <td>1.000048e+00</td>\n",
       "      <td>1.000048e+00</td>\n",
       "      <td>0.249968</td>\n",
       "    </tr>\n",
       "    <tr>\n",
       "      <th>min</th>\n",
       "      <td>-2.873316e-02</td>\n",
       "      <td>-2.963058e-02</td>\n",
       "      <td>-4.567940e-02</td>\n",
       "      <td>-4.945099e-02</td>\n",
       "      <td>-9.828473e-01</td>\n",
       "      <td>-6.149192e+01</td>\n",
       "      <td>-4.229981e+01</td>\n",
       "      <td>-2.416769e-02</td>\n",
       "      <td>-8.874794e-02</td>\n",
       "      <td>-8.798554e-02</td>\n",
       "      <td>...</td>\n",
       "      <td>-4.819632e-02</td>\n",
       "      <td>-2.976965e-01</td>\n",
       "      <td>-4.493900e-02</td>\n",
       "      <td>-2.825114e-02</td>\n",
       "      <td>-3.649033e-02</td>\n",
       "      <td>-2.514880e+00</td>\n",
       "      <td>-4.637820e-02</td>\n",
       "      <td>-2.985976e-02</td>\n",
       "      <td>-2.326742e+01</td>\n",
       "      <td>0.000000</td>\n",
       "    </tr>\n",
       "    <tr>\n",
       "      <th>25%</th>\n",
       "      <td>-2.867520e-02</td>\n",
       "      <td>-2.956815e-02</td>\n",
       "      <td>-4.471458e-02</td>\n",
       "      <td>-4.906079e-02</td>\n",
       "      <td>-6.676532e-01</td>\n",
       "      <td>-1.459028e-02</td>\n",
       "      <td>4.569075e-02</td>\n",
       "      <td>-2.414420e-02</td>\n",
       "      <td>-8.756637e-02</td>\n",
       "      <td>-3.911899e-02</td>\n",
       "      <td>...</td>\n",
       "      <td>-4.564658e-02</td>\n",
       "      <td>-2.456680e-01</td>\n",
       "      <td>-4.098710e-02</td>\n",
       "      <td>-2.820352e-02</td>\n",
       "      <td>-3.649033e-02</td>\n",
       "      <td>-4.783732e-02</td>\n",
       "      <td>-4.637820e-02</td>\n",
       "      <td>-2.893905e-02</td>\n",
       "      <td>-3.026035e-02</td>\n",
       "      <td>0.000000</td>\n",
       "    </tr>\n",
       "    <tr>\n",
       "      <th>50%</th>\n",
       "      <td>-2.845611e-02</td>\n",
       "      <td>-2.932642e-02</td>\n",
       "      <td>-4.130447e-02</td>\n",
       "      <td>-4.532764e-02</td>\n",
       "      <td>-1.795006e-01</td>\n",
       "      <td>-1.289765e-02</td>\n",
       "      <td>5.265509e-02</td>\n",
       "      <td>-2.407832e-02</td>\n",
       "      <td>-8.426786e-02</td>\n",
       "      <td>-3.824014e-02</td>\n",
       "      <td>...</td>\n",
       "      <td>-4.217301e-02</td>\n",
       "      <td>-1.484399e-01</td>\n",
       "      <td>-3.776324e-02</td>\n",
       "      <td>-2.803724e-02</td>\n",
       "      <td>-3.649033e-02</td>\n",
       "      <td>-4.722959e-02</td>\n",
       "      <td>-4.637326e-02</td>\n",
       "      <td>-2.735253e-02</td>\n",
       "      <td>-2.210956e-02</td>\n",
       "      <td>0.000000</td>\n",
       "    </tr>\n",
       "    <tr>\n",
       "      <th>75%</th>\n",
       "      <td>-2.768093e-02</td>\n",
       "      <td>-2.838936e-02</td>\n",
       "      <td>0.000000e+00</td>\n",
       "      <td>7.548665e-18</td>\n",
       "      <td>2.972732e-01</td>\n",
       "      <td>-1.042326e-02</td>\n",
       "      <td>5.366061e-02</td>\n",
       "      <td>-2.385848e-02</td>\n",
       "      <td>-7.336409e-02</td>\n",
       "      <td>-3.317922e-02</td>\n",
       "      <td>...</td>\n",
       "      <td>-3.337822e-02</td>\n",
       "      <td>0.000000e+00</td>\n",
       "      <td>-2.923323e-02</td>\n",
       "      <td>-2.740079e-02</td>\n",
       "      <td>-3.500986e-02</td>\n",
       "      <td>-4.144182e-02</td>\n",
       "      <td>-4.406342e-02</td>\n",
       "      <td>-2.343954e-02</td>\n",
       "      <td>-5.353383e-18</td>\n",
       "      <td>0.000000</td>\n",
       "    </tr>\n",
       "    <tr>\n",
       "      <th>max</th>\n",
       "      <td>4.877513e+01</td>\n",
       "      <td>4.844170e+01</td>\n",
       "      <td>5.108481e+01</td>\n",
       "      <td>4.903622e+01</td>\n",
       "      <td>2.047539e+01</td>\n",
       "      <td>5.691689e+01</td>\n",
       "      <td>1.178834e-01</td>\n",
       "      <td>5.764635e+01</td>\n",
       "      <td>2.630629e+01</td>\n",
       "      <td>4.871781e+01</td>\n",
       "      <td>...</td>\n",
       "      <td>4.941509e+01</td>\n",
       "      <td>2.452747e+01</td>\n",
       "      <td>5.860524e+01</td>\n",
       "      <td>4.878340e+01</td>\n",
       "      <td>6.226509e+01</td>\n",
       "      <td>5.010944e+01</td>\n",
       "      <td>4.726189e+01</td>\n",
       "      <td>6.549633e+01</td>\n",
       "      <td>5.056223e+01</td>\n",
       "      <td>1.000000</td>\n",
       "    </tr>\n",
       "  </tbody>\n",
       "</table>\n",
       "<p>8 rows × 105 columns</p>\n",
       "</div>"
      ],
      "text/plain": [
       "             assets     assetsavg       assetsc      assetsnc  assetturnover  \\\n",
       "count  1.037900e+04  1.037900e+04  1.037900e+04  1.037900e+04   1.037900e+04   \n",
       "mean   3.704342e-17 -4.487918e-17  2.847694e-17 -4.616614e-17   2.855516e-17   \n",
       "std    1.000048e+00  1.000048e+00  1.000048e+00  1.000048e+00   1.000048e+00   \n",
       "min   -2.873316e-02 -2.963058e-02 -4.567940e-02 -4.945099e-02  -9.828473e-01   \n",
       "25%   -2.867520e-02 -2.956815e-02 -4.471458e-02 -4.906079e-02  -6.676532e-01   \n",
       "50%   -2.845611e-02 -2.932642e-02 -4.130447e-02 -4.532764e-02  -1.795006e-01   \n",
       "75%   -2.768093e-02 -2.838936e-02  0.000000e+00  7.548665e-18   2.972732e-01   \n",
       "max    4.877513e+01  4.844170e+01  5.108481e+01  4.903622e+01   2.047539e+01   \n",
       "\n",
       "               bvps         capex       cashneq    cashnequsd           cor  \\\n",
       "count  1.037900e+04  1.037900e+04  1.037900e+04  1.037900e+04  1.037900e+04   \n",
       "mean  -2.413320e-17  4.907167e-19 -3.113811e-17  4.638008e-17 -2.762073e-16   \n",
       "std    1.000048e+00  1.000048e+00  1.000048e+00  1.000048e+00  1.000048e+00   \n",
       "min   -6.149192e+01 -4.229981e+01 -2.416769e-02 -8.874794e-02 -8.798554e-02   \n",
       "25%   -1.459028e-02  4.569075e-02 -2.414420e-02 -8.756637e-02 -3.911899e-02   \n",
       "50%   -1.289765e-02  5.265509e-02 -2.407832e-02 -8.426786e-02 -3.824014e-02   \n",
       "75%   -1.042326e-02  5.366061e-02 -2.385848e-02 -7.336409e-02 -3.317922e-02   \n",
       "max    5.691689e+01  1.178834e-01  5.764635e+01  2.630629e+01  4.871781e+01   \n",
       "\n",
       "       ...      shareswa   shareswadil           sps     tangibles  \\\n",
       "count  ...  1.037900e+04  1.037900e+04  1.037900e+04  1.037900e+04   \n",
       "mean   ... -3.143127e-17  6.814410e-17 -7.806339e-17  3.884484e-17   \n",
       "std    ...  1.000048e+00  1.000048e+00  1.000048e+00  1.000048e+00   \n",
       "min    ... -4.819632e-02 -2.976965e-01 -4.493900e-02 -2.825114e-02   \n",
       "25%    ... -4.564658e-02 -2.456680e-01 -4.098710e-02 -2.820352e-02   \n",
       "50%    ... -4.217301e-02 -1.484399e-01 -3.776324e-02 -2.803724e-02   \n",
       "75%    ... -3.337822e-02  0.000000e+00 -2.923323e-02 -2.740079e-02   \n",
       "max    ...  4.941509e+01  2.452747e+01  5.860524e+01  4.878340e+01   \n",
       "\n",
       "          taxassets        taxexp  taxliabilities         tbvps  \\\n",
       "count  1.037900e+04  1.037900e+04    1.037900e+04  1.037900e+04   \n",
       "mean  -1.072122e-15 -2.436475e-16    1.801973e-16 -4.920538e-19   \n",
       "std    1.000048e+00  1.000048e+00    1.000048e+00  1.000048e+00   \n",
       "min   -3.649033e-02 -2.514880e+00   -4.637820e-02 -2.985976e-02   \n",
       "25%   -3.649033e-02 -4.783732e-02   -4.637820e-02 -2.893905e-02   \n",
       "50%   -3.649033e-02 -4.722959e-02   -4.637326e-02 -2.735253e-02   \n",
       "75%   -3.500986e-02 -4.144182e-02   -4.406342e-02 -2.343954e-02   \n",
       "max    6.226509e+01  5.010944e+01    4.726189e+01  6.549633e+01   \n",
       "\n",
       "       workingcapital        class1  \n",
       "count    1.037900e+04  10379.000000  \n",
       "mean     6.140309e-18      0.066962  \n",
       "std      1.000048e+00      0.249968  \n",
       "min     -2.326742e+01      0.000000  \n",
       "25%     -3.026035e-02      0.000000  \n",
       "50%     -2.210956e-02      0.000000  \n",
       "75%     -5.353383e-18      0.000000  \n",
       "max      5.056223e+01      1.000000  \n",
       "\n",
       "[8 rows x 105 columns]"
      ]
     },
     "execution_count": 579,
     "metadata": {},
     "output_type": "execute_result"
    }
   ],
   "source": [
    "df_train_imp.describe()"
   ]
  },
  {
   "cell_type": "markdown",
   "metadata": {},
   "source": [
    "## LSTM Model"
   ]
  },
  {
   "cell_type": "code",
   "execution_count": 580,
   "metadata": {},
   "outputs": [],
   "source": [
    "import torch\n",
    "import torch.nn as nn\n",
    "import torch.nn.functional as F\n",
    "import torch.optim as optim\n"
   ]
  },
  {
   "cell_type": "code",
   "execution_count": null,
   "metadata": {},
   "outputs": [],
   "source": []
  },
  {
   "cell_type": "code",
   "execution_count": 581,
   "metadata": {},
   "outputs": [],
   "source": [
    "class Model(nn.Module):\n",
    "    \n",
    "    def __init__(self, feature_size, n_activation = 15):\n",
    "        super(Model, self).__init__()\n",
    "        \n",
    "        self.n_activation = n_activation\n",
    "        \n",
    "        # LSTM parameters - input feature size X, number of units in hidden layer.\n",
    "        \n",
    "        self.lstm = nn.LSTM(feature_size, n_activation, batch_first=True)\n",
    "        self.linear2 = nn.Linear(n_activation, 5)\n",
    "        self.out = nn.Linear(5, 1)\n",
    "        self.out2 = nn.Linear(n_activation, 1)\n",
    "    \n",
    "    def forward(self, x, lenx):\n",
    "        \n",
    "        # x has dimension of [batch_size, sequence size]       \n",
    "        \n",
    "        # Here h_lstm contains hidden activations from all sequences, dimension: [batch_size, seq_size, n_activation]\n",
    "        x_packed = torch.nn.utils.rnn.pack_padded_sequence(x, batch_first=True, lengths=lenx, enforce_sorted=False)\n",
    "        \n",
    "        h_lstm, (h_n, c_n) = self.lstm(x_packed)\n",
    "        #layer2 = torch.relu(self.linear2(h_lstm))\n",
    "        #out = self.out2(h_lstm)\n",
    "        padded_output, output_lens = torch.nn.utils.rnn.pad_packed_sequence(h_lstm, batch_first=True, total_length=MAX_SEQ_LENGTH)\n",
    "#         layer2 = torch.relu(self.linear2(padded_output))\n",
    "        out = torch.sigmoid(self.out2(padded_output))\n",
    "        #out = self.out2(padded_output)\n",
    "        \n",
    "        return out"
   ]
  },
  {
   "cell_type": "code",
   "execution_count": 582,
   "metadata": {},
   "outputs": [
    {
     "data": {
      "text/plain": [
       "10379"
      ]
     },
     "execution_count": 582,
     "metadata": {},
     "output_type": "execute_result"
    }
   ],
   "source": [
    "df_train_imp.shape[0]"
   ]
  },
  {
   "cell_type": "code",
   "execution_count": 583,
   "metadata": {},
   "outputs": [],
   "source": [
    "model = Model(feature_size=df_train.shape[1]).cpu()"
   ]
  },
  {
   "cell_type": "code",
   "execution_count": 584,
   "metadata": {},
   "outputs": [],
   "source": [
    "learning_rate = 0.001\n",
    "weight_decay=0.0001\n",
    "batch_size = 150\n",
    "n_epoch = 100\n",
    "\n",
    "loss_function = nn.BCELoss()\n",
    "optimizer = torch.optim.Adam(model.parameters(), lr=learning_rate, weight_decay=weight_decay)"
   ]
  },
  {
   "cell_type": "code",
   "execution_count": 585,
   "metadata": {},
   "outputs": [],
   "source": [
    "x_train = TickersIndicatorsDataset(df_train_imp, features, target, MAX_SEQ_LENGTH )\n",
    "x_test = TickersIndicatorsDataset(df_test_imp, features, target, MAX_SEQ_LENGTH )"
   ]
  },
  {
   "cell_type": "code",
   "execution_count": 586,
   "metadata": {},
   "outputs": [],
   "source": [
    "train_loader = DataLoader(x_train, batch_size=batch_size)"
   ]
  },
  {
   "cell_type": "code",
   "execution_count": 587,
   "metadata": {},
   "outputs": [],
   "source": [
    "test_loader = DataLoader(x_test, batch_size=len(x_test))"
   ]
  },
  {
   "cell_type": "code",
   "execution_count": 588,
   "metadata": {},
   "outputs": [],
   "source": [
    "# ### DEBUG test\n",
    "\n",
    "# sample_data, sample_target, lenx = next(iter(train_loader))\n",
    "\n",
    "# sample_data.shape, sample_target.shape\n",
    "\n",
    "# # Feed sample data\n",
    "# out = model(sample_data.float(), lenx)\n",
    "\n",
    "# out.shape\n",
    "\n",
    "# sample_data.shape\n",
    "\n",
    "# sample_target.shape\n",
    "\n",
    "# out.view(batch_size,-1).shape\n",
    "\n",
    "# sample_target.view(-1, 1).shape\n",
    "\n",
    "# loss = loss_function(out, sample_target)\n",
    "# print(loss)\n"
   ]
  },
  {
   "cell_type": "code",
   "execution_count": 589,
   "metadata": {},
   "outputs": [],
   "source": [
    "from sklearn.metrics import roc_auc_score"
   ]
  },
  {
   "cell_type": "code",
   "execution_count": 590,
   "metadata": {},
   "outputs": [],
   "source": [
    "def calc_auc(model, dataloader):\n",
    "    model.eval()\n",
    "    roc_list = []\n",
    "    for data_i, target_i, len_i in dataloader:\n",
    "        y_pred = model(data_i, len_i).detach().squeeze().reshape(-1,1).numpy()\n",
    "        y_true = target_i.detach().squeeze().reshape(-1,1).numpy()\n",
    "        roc_list.append(roc_auc_score(y_true, y_pred))\n",
    "    return np.average(roc_list)\n"
   ]
  },
  {
   "cell_type": "code",
   "execution_count": 591,
   "metadata": {},
   "outputs": [],
   "source": [
    "def calc_loss(output_padded, y):\n",
    "    batch_ce_loss = 0.0\n",
    "    for i in range(output_padded.size(0)):\n",
    "      ce_loss = F.binary_cross_entropy(output_padded[i], y[i], reduction=\"sum\")\n",
    "      batch_ce_loss += ce_loss\n",
    "    return batch_ce_loss"
   ]
  },
  {
   "cell_type": "code",
   "execution_count": 592,
   "metadata": {},
   "outputs": [
    {
     "name": "stdout",
     "output_type": "stream",
     "text": [
      "Epoch: 0, Train loss: 334.0384826660156, Validation loss: 2193.792724609375, AUC train: 0.4354189182375485, AUC test: 0.42009863048121626\n",
      "Epoch: 1, Train loss: 307.2469482421875, Validation loss: 1998.0743408203125, AUC train: 0.40126284220836617, AUC test: 0.38355635130041466\n",
      "Epoch: 2, Train loss: 273.3414611816406, Validation loss: 1753.94677734375, AUC train: 0.3938495781655715, AUC test: 0.37836600075386356\n",
      "Epoch: 3, Train loss: 242.16989135742188, Validation loss: 1535.88525390625, AUC train: 0.3966321938253505, AUC test: 0.3825587385349919\n",
      "Epoch: 4, Train loss: 222.68255615234375, Validation loss: 1403.1090087890625, AUC train: 0.40146872613789364, AUC test: 0.39003580851865816\n",
      "Epoch: 5, Train loss: 211.9206085205078, Validation loss: 1330.675048828125, AUC train: 0.40724963529313757, AUC test: 0.39773715290865685\n",
      "Epoch: 6, Train loss: 205.2423553466797, Validation loss: 1285.4473876953125, AUC train: 0.41379517181491654, AUC test: 0.40477698203291873\n",
      "Epoch: 7, Train loss: 200.30792236328125, Validation loss: 1252.00341796875, AUC train: 0.4214771629546445, AUC test: 0.4125273275537128\n",
      "Epoch: 8, Train loss: 195.87698364257812, Validation loss: 1223.8192138671875, AUC train: 0.4302946821685906, AUC test: 0.4213280562884784\n",
      "Epoch: 9, Train loss: 192.16909790039062, Validation loss: 1199.0716552734375, AUC train: 0.43825385753911955, AUC test: 0.4292750345520794\n",
      "Epoch: 10, Train loss: 188.81419372558594, Validation loss: 1177.478271484375, AUC train: 0.44600795986549907, AUC test: 0.43736524689031286\n",
      "Epoch: 11, Train loss: 185.8043212890625, Validation loss: 1157.9532470703125, AUC train: 0.4533795670081238, AUC test: 0.4453141098127905\n",
      "Epoch: 12, Train loss: 182.9779052734375, Validation loss: 1139.958740234375, AUC train: 0.4617161207310179, AUC test: 0.4554479205930393\n",
      "Epoch: 13, Train loss: 180.57379150390625, Validation loss: 1123.6724853515625, AUC train: 0.4701076226120507, AUC test: 0.4663236587510993\n",
      "Epoch: 14, Train loss: 178.14859008789062, Validation loss: 1108.791015625, AUC train: 0.4800743898302623, AUC test: 0.4770976253298153\n",
      "Epoch: 15, Train loss: 176.18833923339844, Validation loss: 1095.0810546875, AUC train: 0.490226326476943, AUC test: 0.48801608242241484\n",
      "Epoch: 16, Train loss: 174.1431884765625, Validation loss: 1082.544677734375, AUC train: 0.5004294911235077, AUC test: 0.4992210076642794\n",
      "Epoch: 17, Train loss: 172.37124633789062, Validation loss: 1070.962158203125, AUC train: 0.5124864570424416, AUC test: 0.5103681367005906\n",
      "Epoch: 18, Train loss: 170.6279754638672, Validation loss: 1060.2916259765625, AUC train: 0.5247103150252674, AUC test: 0.5211596934288226\n",
      "Epoch: 19, Train loss: 169.05044555664062, Validation loss: 1050.4337158203125, AUC train: 0.5364893217319139, AUC test: 0.5315378816434225\n",
      "Epoch: 20, Train loss: 167.7490234375, Validation loss: 1041.4886474609375, AUC train: 0.5469338666466055, AUC test: 0.5401444905138837\n",
      "Epoch: 21, Train loss: 166.49034118652344, Validation loss: 1033.505126953125, AUC train: 0.5550719967028671, AUC test: 0.5465573564518156\n",
      "Epoch: 22, Train loss: 165.4061737060547, Validation loss: 1026.38525390625, AUC train: 0.5634630696463727, AUC test: 0.5523759266239477\n",
      "Epoch: 23, Train loss: 164.44589233398438, Validation loss: 1020.0967407226562, AUC train: 0.5715175908090363, AUC test: 0.5584910164593542\n",
      "Epoch: 24, Train loss: 163.58099365234375, Validation loss: 1014.537353515625, AUC train: 0.5791147440677082, AUC test: 0.564965447920593\n",
      "Epoch: 25, Train loss: 162.76829528808594, Validation loss: 1009.5900268554688, AUC train: 0.5854736848993162, AUC test: 0.5707739665787159\n",
      "Epoch: 26, Train loss: 162.0503692626953, Validation loss: 1005.1162719726562, AUC train: 0.5912537249522946, AUC test: 0.5762407337605226\n",
      "Epoch: 27, Train loss: 161.34683227539062, Validation loss: 1001.0355224609375, AUC train: 0.5961362178814829, AUC test: 0.5805817313732881\n",
      "Epoch: 28, Train loss: 160.71951293945312, Validation loss: 997.2666015625, AUC train: 0.6002202620758573, AUC test: 0.5843007915567282\n",
      "Epoch: 29, Train loss: 160.1083984375, Validation loss: 993.7958984375, AUC train: 0.603866570828485, AUC test: 0.5871830631988942\n",
      "Epoch: 30, Train loss: 159.55056762695312, Validation loss: 990.551513671875, AUC train: 0.6072345573760793, AUC test: 0.5895841186078653\n",
      "Epoch: 31, Train loss: 159.0029754638672, Validation loss: 987.4923706054688, AUC train: 0.6101229264651392, AUC test: 0.5909561502701345\n",
      "Epoch: 32, Train loss: 158.4878387451172, Validation loss: 984.5794677734375, AUC train: 0.612496910497894, AUC test: 0.5926159065209198\n",
      "Epoch: 33, Train loss: 157.98028564453125, Validation loss: 981.7913818359375, AUC train: 0.6145846971183099, AUC test: 0.594314612388491\n",
      "Epoch: 34, Train loss: 157.4990234375, Validation loss: 979.1160888671875, AUC train: 0.6165590684051566, AUC test: 0.5959756250785274\n",
      "Epoch: 35, Train loss: 157.02642822265625, Validation loss: 976.5275268554688, AUC train: 0.618347495007317, AUC test: 0.5974733006659129\n",
      "Epoch: 36, Train loss: 156.56983947753906, Validation loss: 974.0153198242188, AUC train: 0.6198121732533025, AUC test: 0.5988491016459354\n",
      "Epoch: 37, Train loss: 156.1209716796875, Validation loss: 971.563720703125, AUC train: 0.6212119762044582, AUC test: 0.600092976504586\n",
      "Epoch: 38, Train loss: 155.68214416503906, Validation loss: 969.1810302734375, AUC train: 0.6225196930353735, AUC test: 0.6013764291996483\n",
      "Epoch: 39, Train loss: 155.24981689453125, Validation loss: 966.833740234375, AUC train: 0.6241125756309377, AUC test: 0.6019110441010177\n",
      "Epoch: 40, Train loss: 154.81874084472656, Validation loss: 964.5584106445312, AUC train: 0.6253132223459039, AUC test: 0.6030305314738031\n",
      "Epoch: 41, Train loss: 154.37960815429688, Validation loss: 962.3084716796875, AUC train: 0.626376375998195, AUC test: 0.6040721196130168\n",
      "Epoch: 42, Train loss: 153.87445068359375, Validation loss: 960.0966186523438, AUC train: 0.6275994986467908, AUC test: 0.6050760145746953\n",
      "Epoch: 43, Train loss: 153.2532958984375, Validation loss: 957.9090576171875, AUC train: 0.6287290988300179, AUC test: 0.6061031536625204\n",
      "Epoch: 44, Train loss: 152.83465576171875, Validation loss: 955.7307739257812, AUC train: 0.6298285555164547, AUC test: 0.6071968840306571\n",
      "Epoch: 45, Train loss: 152.4322967529297, Validation loss: 953.5933837890625, AUC train: 0.6310302167609068, AUC test: 0.6081002638522427\n",
      "Epoch: 46, Train loss: 152.0491485595703, Validation loss: 951.375244140625, AUC train: 0.6319599603947867, AUC test: 0.6088717175524563\n",
      "Epoch: 47, Train loss: 151.6719970703125, Validation loss: 949.3616333007812, AUC train: 0.6328269935705682, AUC test: 0.6103781882145998\n",
      "Epoch: 48, Train loss: 151.2760467529297, Validation loss: 947.3135375976562, AUC train: 0.633832230421833, AUC test: 0.6111496419148134\n",
      "Epoch: 49, Train loss: 150.89944458007812, Validation loss: 945.209716796875, AUC train: 0.6347247847950126, AUC test: 0.6119587887925619\n",
      "Epoch: 50, Train loss: 150.53335571289062, Validation loss: 943.2628173828125, AUC train: 0.6354633925476175, AUC test: 0.6125907777358964\n",
      "Epoch: 51, Train loss: 150.16818237304688, Validation loss: 941.3392333984375, AUC train: 0.6363694531299501, AUC test: 0.6131059178288729\n",
      "Epoch: 52, Train loss: 149.8115692138672, Validation loss: 939.4489135742188, AUC train: 0.6370701766004015, AUC test: 0.6135657745947983\n",
      "Epoch: 53, Train loss: 149.45730590820312, Validation loss: 937.5773315429688, AUC train: 0.637975643690476, AUC test: 0.6139929639401935\n",
      "Epoch: 54, Train loss: 149.1092529296875, Validation loss: 935.7272338867188, AUC train: 0.6389421968573031, AUC test: 0.6142945093604724\n",
      "Epoch: 55, Train loss: 148.7637481689453, Validation loss: 933.8922729492188, AUC train: 0.6395376575274978, AUC test: 0.6145985676592537\n",
      "Epoch: 56, Train loss: 148.42312622070312, Validation loss: 932.0745239257812, AUC train: 0.6401215561883202, AUC test: 0.6149089081542908\n",
      "Epoch: 57, Train loss: 148.08462524414062, Validation loss: 930.2730712890625, AUC train: 0.6406666521997131, AUC test: 0.6152029149390627\n"
     ]
    },
    {
     "ename": "KeyboardInterrupt",
     "evalue": "",
     "output_type": "error",
     "traceback": [
      "\u001b[0;31m---------------------------------------------------------------------------\u001b[0m",
      "\u001b[0;31mKeyboardInterrupt\u001b[0m                         Traceback (most recent call last)",
      "\u001b[0;32m<ipython-input-592-290a19deb910>\u001b[0m in \u001b[0;36m<module>\u001b[0;34m\u001b[0m\n\u001b[1;32m     24\u001b[0m         \u001b[0mvalid_loss\u001b[0m\u001b[0;34m.\u001b[0m\u001b[0mappend\u001b[0m\u001b[0;34m(\u001b[0m\u001b[0mloss2\u001b[0m\u001b[0;34m.\u001b[0m\u001b[0mitem\u001b[0m\u001b[0;34m(\u001b[0m\u001b[0;34m)\u001b[0m\u001b[0;34m)\u001b[0m\u001b[0;34m\u001b[0m\u001b[0;34m\u001b[0m\u001b[0m\n\u001b[1;32m     25\u001b[0m \u001b[0;34m\u001b[0m\u001b[0m\n\u001b[0;32m---> 26\u001b[0;31m     \u001b[0mauc_test\u001b[0m \u001b[0;34m=\u001b[0m \u001b[0mcalc_auc\u001b[0m\u001b[0;34m(\u001b[0m\u001b[0mmodel\u001b[0m\u001b[0;34m,\u001b[0m \u001b[0mtest_loader\u001b[0m\u001b[0;34m)\u001b[0m\u001b[0;34m\u001b[0m\u001b[0;34m\u001b[0m\u001b[0m\n\u001b[0m\u001b[1;32m     27\u001b[0m \u001b[0;34m\u001b[0m\u001b[0m\n\u001b[1;32m     28\u001b[0m     \u001b[0mprint\u001b[0m\u001b[0;34m(\u001b[0m\u001b[0;34m\"Epoch: {}, Train loss: {}, Validation loss: {}, AUC train: {}, AUC test: {}\"\u001b[0m\u001b[0;34m.\u001b[0m\u001b[0mformat\u001b[0m\u001b[0;34m(\u001b[0m\u001b[0mi\u001b[0m\u001b[0;34m,\u001b[0m\u001b[0mtrain_loss\u001b[0m\u001b[0;34m[\u001b[0m\u001b[0;34m-\u001b[0m\u001b[0;36m1\u001b[0m\u001b[0;34m]\u001b[0m\u001b[0;34m,\u001b[0m \u001b[0mvalid_loss\u001b[0m\u001b[0;34m[\u001b[0m\u001b[0;34m-\u001b[0m\u001b[0;36m1\u001b[0m\u001b[0;34m]\u001b[0m\u001b[0;34m,\u001b[0m \u001b[0mauc_train\u001b[0m\u001b[0;34m,\u001b[0m \u001b[0mauc_test\u001b[0m\u001b[0;34m)\u001b[0m\u001b[0;34m)\u001b[0m\u001b[0;34m\u001b[0m\u001b[0;34m\u001b[0m\u001b[0m\n",
      "\u001b[0;32m<ipython-input-590-fffea319571f>\u001b[0m in \u001b[0;36mcalc_auc\u001b[0;34m(model, dataloader)\u001b[0m\n\u001b[1;32m      2\u001b[0m     \u001b[0mmodel\u001b[0m\u001b[0;34m.\u001b[0m\u001b[0meval\u001b[0m\u001b[0;34m(\u001b[0m\u001b[0;34m)\u001b[0m\u001b[0;34m\u001b[0m\u001b[0;34m\u001b[0m\u001b[0m\n\u001b[1;32m      3\u001b[0m     \u001b[0mroc_list\u001b[0m \u001b[0;34m=\u001b[0m \u001b[0;34m[\u001b[0m\u001b[0;34m]\u001b[0m\u001b[0;34m\u001b[0m\u001b[0;34m\u001b[0m\u001b[0m\n\u001b[0;32m----> 4\u001b[0;31m     \u001b[0;32mfor\u001b[0m \u001b[0mdata_i\u001b[0m\u001b[0;34m,\u001b[0m \u001b[0mtarget_i\u001b[0m\u001b[0;34m,\u001b[0m \u001b[0mlen_i\u001b[0m \u001b[0;32min\u001b[0m \u001b[0mdataloader\u001b[0m\u001b[0;34m:\u001b[0m\u001b[0;34m\u001b[0m\u001b[0;34m\u001b[0m\u001b[0m\n\u001b[0m\u001b[1;32m      5\u001b[0m         \u001b[0my_pred\u001b[0m \u001b[0;34m=\u001b[0m \u001b[0mmodel\u001b[0m\u001b[0;34m(\u001b[0m\u001b[0mdata_i\u001b[0m\u001b[0;34m,\u001b[0m \u001b[0mlen_i\u001b[0m\u001b[0;34m)\u001b[0m\u001b[0;34m.\u001b[0m\u001b[0mdetach\u001b[0m\u001b[0;34m(\u001b[0m\u001b[0;34m)\u001b[0m\u001b[0;34m.\u001b[0m\u001b[0msqueeze\u001b[0m\u001b[0;34m(\u001b[0m\u001b[0;34m)\u001b[0m\u001b[0;34m.\u001b[0m\u001b[0mreshape\u001b[0m\u001b[0;34m(\u001b[0m\u001b[0;34m-\u001b[0m\u001b[0;36m1\u001b[0m\u001b[0;34m,\u001b[0m\u001b[0;36m1\u001b[0m\u001b[0;34m)\u001b[0m\u001b[0;34m.\u001b[0m\u001b[0mnumpy\u001b[0m\u001b[0;34m(\u001b[0m\u001b[0;34m)\u001b[0m\u001b[0;34m\u001b[0m\u001b[0;34m\u001b[0m\u001b[0m\n\u001b[1;32m      6\u001b[0m         \u001b[0my_true\u001b[0m \u001b[0;34m=\u001b[0m \u001b[0mtarget_i\u001b[0m\u001b[0;34m.\u001b[0m\u001b[0mdetach\u001b[0m\u001b[0;34m(\u001b[0m\u001b[0;34m)\u001b[0m\u001b[0;34m.\u001b[0m\u001b[0msqueeze\u001b[0m\u001b[0;34m(\u001b[0m\u001b[0;34m)\u001b[0m\u001b[0;34m.\u001b[0m\u001b[0mreshape\u001b[0m\u001b[0;34m(\u001b[0m\u001b[0;34m-\u001b[0m\u001b[0;36m1\u001b[0m\u001b[0;34m,\u001b[0m\u001b[0;36m1\u001b[0m\u001b[0;34m)\u001b[0m\u001b[0;34m.\u001b[0m\u001b[0mnumpy\u001b[0m\u001b[0;34m(\u001b[0m\u001b[0;34m)\u001b[0m\u001b[0;34m\u001b[0m\u001b[0;34m\u001b[0m\u001b[0m\n",
      "\u001b[0;32m~/anaconda3/lib/python3.7/site-packages/torch/utils/data/dataloader.py\u001b[0m in \u001b[0;36m__next__\u001b[0;34m(self)\u001b[0m\n\u001b[1;32m    344\u001b[0m     \u001b[0;32mdef\u001b[0m \u001b[0m__next__\u001b[0m\u001b[0;34m(\u001b[0m\u001b[0mself\u001b[0m\u001b[0;34m)\u001b[0m\u001b[0;34m:\u001b[0m\u001b[0;34m\u001b[0m\u001b[0;34m\u001b[0m\u001b[0m\n\u001b[1;32m    345\u001b[0m         \u001b[0mindex\u001b[0m \u001b[0;34m=\u001b[0m \u001b[0mself\u001b[0m\u001b[0;34m.\u001b[0m\u001b[0m_next_index\u001b[0m\u001b[0;34m(\u001b[0m\u001b[0;34m)\u001b[0m  \u001b[0;31m# may raise StopIteration\u001b[0m\u001b[0;34m\u001b[0m\u001b[0;34m\u001b[0m\u001b[0m\n\u001b[0;32m--> 346\u001b[0;31m         \u001b[0mdata\u001b[0m \u001b[0;34m=\u001b[0m \u001b[0mself\u001b[0m\u001b[0;34m.\u001b[0m\u001b[0mdataset_fetcher\u001b[0m\u001b[0;34m.\u001b[0m\u001b[0mfetch\u001b[0m\u001b[0;34m(\u001b[0m\u001b[0mindex\u001b[0m\u001b[0;34m)\u001b[0m  \u001b[0;31m# may raise StopIteration\u001b[0m\u001b[0;34m\u001b[0m\u001b[0;34m\u001b[0m\u001b[0m\n\u001b[0m\u001b[1;32m    347\u001b[0m         \u001b[0;32mif\u001b[0m \u001b[0mself\u001b[0m\u001b[0;34m.\u001b[0m\u001b[0mpin_memory\u001b[0m\u001b[0;34m:\u001b[0m\u001b[0;34m\u001b[0m\u001b[0;34m\u001b[0m\u001b[0m\n\u001b[1;32m    348\u001b[0m             \u001b[0mdata\u001b[0m \u001b[0;34m=\u001b[0m \u001b[0m_utils\u001b[0m\u001b[0;34m.\u001b[0m\u001b[0mpin_memory\u001b[0m\u001b[0;34m.\u001b[0m\u001b[0mpin_memory\u001b[0m\u001b[0;34m(\u001b[0m\u001b[0mdata\u001b[0m\u001b[0;34m)\u001b[0m\u001b[0;34m\u001b[0m\u001b[0;34m\u001b[0m\u001b[0m\n",
      "\u001b[0;32m~/anaconda3/lib/python3.7/site-packages/torch/utils/data/_utils/fetch.py\u001b[0m in \u001b[0;36mfetch\u001b[0;34m(self, possibly_batched_index)\u001b[0m\n\u001b[1;32m     42\u001b[0m     \u001b[0;32mdef\u001b[0m \u001b[0mfetch\u001b[0m\u001b[0;34m(\u001b[0m\u001b[0mself\u001b[0m\u001b[0;34m,\u001b[0m \u001b[0mpossibly_batched_index\u001b[0m\u001b[0;34m)\u001b[0m\u001b[0;34m:\u001b[0m\u001b[0;34m\u001b[0m\u001b[0;34m\u001b[0m\u001b[0m\n\u001b[1;32m     43\u001b[0m         \u001b[0;32mif\u001b[0m \u001b[0mself\u001b[0m\u001b[0;34m.\u001b[0m\u001b[0mauto_collation\u001b[0m\u001b[0;34m:\u001b[0m\u001b[0;34m\u001b[0m\u001b[0;34m\u001b[0m\u001b[0m\n\u001b[0;32m---> 44\u001b[0;31m             \u001b[0mdata\u001b[0m \u001b[0;34m=\u001b[0m \u001b[0;34m[\u001b[0m\u001b[0mself\u001b[0m\u001b[0;34m.\u001b[0m\u001b[0mdataset\u001b[0m\u001b[0;34m[\u001b[0m\u001b[0midx\u001b[0m\u001b[0;34m]\u001b[0m \u001b[0;32mfor\u001b[0m \u001b[0midx\u001b[0m \u001b[0;32min\u001b[0m \u001b[0mpossibly_batched_index\u001b[0m\u001b[0;34m]\u001b[0m\u001b[0;34m\u001b[0m\u001b[0;34m\u001b[0m\u001b[0m\n\u001b[0m\u001b[1;32m     45\u001b[0m         \u001b[0;32melse\u001b[0m\u001b[0;34m:\u001b[0m\u001b[0;34m\u001b[0m\u001b[0;34m\u001b[0m\u001b[0m\n\u001b[1;32m     46\u001b[0m             \u001b[0mdata\u001b[0m \u001b[0;34m=\u001b[0m \u001b[0mself\u001b[0m\u001b[0;34m.\u001b[0m\u001b[0mdataset\u001b[0m\u001b[0;34m[\u001b[0m\u001b[0mpossibly_batched_index\u001b[0m\u001b[0;34m]\u001b[0m\u001b[0;34m\u001b[0m\u001b[0;34m\u001b[0m\u001b[0m\n",
      "\u001b[0;32m~/anaconda3/lib/python3.7/site-packages/torch/utils/data/_utils/fetch.py\u001b[0m in \u001b[0;36m<listcomp>\u001b[0;34m(.0)\u001b[0m\n\u001b[1;32m     42\u001b[0m     \u001b[0;32mdef\u001b[0m \u001b[0mfetch\u001b[0m\u001b[0;34m(\u001b[0m\u001b[0mself\u001b[0m\u001b[0;34m,\u001b[0m \u001b[0mpossibly_batched_index\u001b[0m\u001b[0;34m)\u001b[0m\u001b[0;34m:\u001b[0m\u001b[0;34m\u001b[0m\u001b[0;34m\u001b[0m\u001b[0m\n\u001b[1;32m     43\u001b[0m         \u001b[0;32mif\u001b[0m \u001b[0mself\u001b[0m\u001b[0;34m.\u001b[0m\u001b[0mauto_collation\u001b[0m\u001b[0;34m:\u001b[0m\u001b[0;34m\u001b[0m\u001b[0;34m\u001b[0m\u001b[0m\n\u001b[0;32m---> 44\u001b[0;31m             \u001b[0mdata\u001b[0m \u001b[0;34m=\u001b[0m \u001b[0;34m[\u001b[0m\u001b[0mself\u001b[0m\u001b[0;34m.\u001b[0m\u001b[0mdataset\u001b[0m\u001b[0;34m[\u001b[0m\u001b[0midx\u001b[0m\u001b[0;34m]\u001b[0m \u001b[0;32mfor\u001b[0m \u001b[0midx\u001b[0m \u001b[0;32min\u001b[0m \u001b[0mpossibly_batched_index\u001b[0m\u001b[0;34m]\u001b[0m\u001b[0;34m\u001b[0m\u001b[0;34m\u001b[0m\u001b[0m\n\u001b[0m\u001b[1;32m     45\u001b[0m         \u001b[0;32melse\u001b[0m\u001b[0;34m:\u001b[0m\u001b[0;34m\u001b[0m\u001b[0;34m\u001b[0m\u001b[0m\n\u001b[1;32m     46\u001b[0m             \u001b[0mdata\u001b[0m \u001b[0;34m=\u001b[0m \u001b[0mself\u001b[0m\u001b[0;34m.\u001b[0m\u001b[0mdataset\u001b[0m\u001b[0;34m[\u001b[0m\u001b[0mpossibly_batched_index\u001b[0m\u001b[0;34m]\u001b[0m\u001b[0;34m\u001b[0m\u001b[0;34m\u001b[0m\u001b[0m\n",
      "\u001b[0;32m<ipython-input-568-5dd96a692d37>\u001b[0m in \u001b[0;36m__getitem__\u001b[0;34m(self, idx)\u001b[0m\n\u001b[1;32m     18\u001b[0m \u001b[0;34m\u001b[0m\u001b[0m\n\u001b[1;32m     19\u001b[0m         \u001b[0mticker\u001b[0m \u001b[0;34m=\u001b[0m \u001b[0mself\u001b[0m\u001b[0;34m.\u001b[0m\u001b[0mticker_list\u001b[0m\u001b[0;34m[\u001b[0m\u001b[0midx\u001b[0m\u001b[0;34m]\u001b[0m\u001b[0;34m\u001b[0m\u001b[0;34m\u001b[0m\u001b[0m\n\u001b[0;32m---> 20\u001b[0;31m         \u001b[0mX\u001b[0m\u001b[0;34m,\u001b[0m \u001b[0my\u001b[0m\u001b[0;34m,\u001b[0m \u001b[0mlen_ticker\u001b[0m \u001b[0;34m=\u001b[0m \u001b[0mget_padded_features\u001b[0m\u001b[0;34m(\u001b[0m\u001b[0mself\u001b[0m\u001b[0;34m.\u001b[0m\u001b[0mdf\u001b[0m\u001b[0;34m,\u001b[0m \u001b[0mticker\u001b[0m\u001b[0;34m=\u001b[0m\u001b[0mticker\u001b[0m\u001b[0;34m,\u001b[0m \u001b[0mfeatures\u001b[0m \u001b[0;34m=\u001b[0m \u001b[0mself\u001b[0m\u001b[0;34m.\u001b[0m\u001b[0mfeatures\u001b[0m\u001b[0;34m,\u001b[0m \u001b[0mtarget\u001b[0m \u001b[0;34m=\u001b[0m \u001b[0mself\u001b[0m\u001b[0;34m.\u001b[0m\u001b[0mtarget\u001b[0m\u001b[0;34m,\u001b[0m \u001b[0mn_pad\u001b[0m \u001b[0;34m=\u001b[0m \u001b[0mself\u001b[0m\u001b[0;34m.\u001b[0m\u001b[0mn_pad\u001b[0m\u001b[0;34m)\u001b[0m\u001b[0;34m\u001b[0m\u001b[0;34m\u001b[0m\u001b[0m\n\u001b[0m\u001b[1;32m     21\u001b[0m \u001b[0;34m\u001b[0m\u001b[0m\n\u001b[1;32m     22\u001b[0m         \u001b[0;32mreturn\u001b[0m \u001b[0mtorch\u001b[0m\u001b[0;34m.\u001b[0m\u001b[0mfrom_numpy\u001b[0m\u001b[0;34m(\u001b[0m\u001b[0mX\u001b[0m\u001b[0;34m)\u001b[0m\u001b[0;34m.\u001b[0m\u001b[0mfloat\u001b[0m\u001b[0;34m(\u001b[0m\u001b[0;34m)\u001b[0m\u001b[0;34m,\u001b[0m  \u001b[0mtorch\u001b[0m\u001b[0;34m.\u001b[0m\u001b[0mtensor\u001b[0m\u001b[0;34m(\u001b[0m\u001b[0my\u001b[0m\u001b[0;34m,\u001b[0m \u001b[0mdtype\u001b[0m\u001b[0;34m=\u001b[0m\u001b[0mtorch\u001b[0m\u001b[0;34m.\u001b[0m\u001b[0mfloat32\u001b[0m\u001b[0;34m)\u001b[0m\u001b[0;34m,\u001b[0m \u001b[0mlen_ticker\u001b[0m\u001b[0;34m\u001b[0m\u001b[0;34m\u001b[0m\u001b[0m\n",
      "\u001b[0;32m<ipython-input-562-720d5872ad6b>\u001b[0m in \u001b[0;36mget_padded_features\u001b[0;34m(sorted_df, ticker, features, target, n_pad)\u001b[0m\n\u001b[1;32m     25\u001b[0m     \u001b[0mn_features\u001b[0m \u001b[0;34m=\u001b[0m \u001b[0mlen\u001b[0m\u001b[0;34m(\u001b[0m\u001b[0mfeatures\u001b[0m\u001b[0;34m)\u001b[0m\u001b[0;34m\u001b[0m\u001b[0;34m\u001b[0m\u001b[0m\n\u001b[1;32m     26\u001b[0m \u001b[0;34m\u001b[0m\u001b[0m\n\u001b[0;32m---> 27\u001b[0;31m     \u001b[0mticker_data\u001b[0m \u001b[0;34m=\u001b[0m \u001b[0msorted_df\u001b[0m\u001b[0;34m.\u001b[0m\u001b[0mloc\u001b[0m\u001b[0;34m[\u001b[0m\u001b[0msorted_df\u001b[0m\u001b[0;34m[\u001b[0m\u001b[0;34m'ticker'\u001b[0m\u001b[0;34m]\u001b[0m \u001b[0;34m==\u001b[0m \u001b[0mticker\u001b[0m\u001b[0;34m,\u001b[0m \u001b[0;34m:\u001b[0m\u001b[0;34m]\u001b[0m\u001b[0;34m\u001b[0m\u001b[0;34m\u001b[0m\u001b[0m\n\u001b[0m\u001b[1;32m     28\u001b[0m \u001b[0;34m\u001b[0m\u001b[0m\n\u001b[1;32m     29\u001b[0m     \u001b[0mticker_features\u001b[0m \u001b[0;34m=\u001b[0m \u001b[0mticker_data\u001b[0m\u001b[0;34m.\u001b[0m\u001b[0mloc\u001b[0m\u001b[0;34m[\u001b[0m\u001b[0;34m:\u001b[0m\u001b[0;34m,\u001b[0m \u001b[0mfeatures\u001b[0m\u001b[0;34m]\u001b[0m\u001b[0;34m\u001b[0m\u001b[0;34m\u001b[0m\u001b[0m\n",
      "\u001b[0;32m~/anaconda3/lib/python3.7/site-packages/pandas/core/indexing.py\u001b[0m in \u001b[0;36m__getitem__\u001b[0;34m(self, key)\u001b[0m\n\u001b[1;32m   1402\u001b[0m                 \u001b[0;32mexcept\u001b[0m \u001b[0;34m(\u001b[0m\u001b[0mKeyError\u001b[0m\u001b[0;34m,\u001b[0m \u001b[0mIndexError\u001b[0m\u001b[0;34m,\u001b[0m \u001b[0mAttributeError\u001b[0m\u001b[0;34m)\u001b[0m\u001b[0;34m:\u001b[0m\u001b[0;34m\u001b[0m\u001b[0;34m\u001b[0m\u001b[0m\n\u001b[1;32m   1403\u001b[0m                     \u001b[0;32mpass\u001b[0m\u001b[0;34m\u001b[0m\u001b[0;34m\u001b[0m\u001b[0m\n\u001b[0;32m-> 1404\u001b[0;31m             \u001b[0;32mreturn\u001b[0m \u001b[0mself\u001b[0m\u001b[0;34m.\u001b[0m\u001b[0m_getitem_tuple\u001b[0m\u001b[0;34m(\u001b[0m\u001b[0mkey\u001b[0m\u001b[0;34m)\u001b[0m\u001b[0;34m\u001b[0m\u001b[0;34m\u001b[0m\u001b[0m\n\u001b[0m\u001b[1;32m   1405\u001b[0m         \u001b[0;32melse\u001b[0m\u001b[0;34m:\u001b[0m\u001b[0;34m\u001b[0m\u001b[0;34m\u001b[0m\u001b[0m\n\u001b[1;32m   1406\u001b[0m             \u001b[0;31m# we by definition only have the 0th axis\u001b[0m\u001b[0;34m\u001b[0m\u001b[0;34m\u001b[0m\u001b[0;34m\u001b[0m\u001b[0m\n",
      "\u001b[0;32m~/anaconda3/lib/python3.7/site-packages/pandas/core/indexing.py\u001b[0m in \u001b[0;36m_getitem_tuple\u001b[0;34m(self, tup)\u001b[0m\n\u001b[1;32m    794\u001b[0m \u001b[0;34m\u001b[0m\u001b[0m\n\u001b[1;32m    795\u001b[0m         \u001b[0;31m# no multi-index, so validate all of the indexers\u001b[0m\u001b[0;34m\u001b[0m\u001b[0;34m\u001b[0m\u001b[0;34m\u001b[0m\u001b[0m\n\u001b[0;32m--> 796\u001b[0;31m         \u001b[0mself\u001b[0m\u001b[0;34m.\u001b[0m\u001b[0m_has_valid_tuple\u001b[0m\u001b[0;34m(\u001b[0m\u001b[0mtup\u001b[0m\u001b[0;34m)\u001b[0m\u001b[0;34m\u001b[0m\u001b[0;34m\u001b[0m\u001b[0m\n\u001b[0m\u001b[1;32m    797\u001b[0m \u001b[0;34m\u001b[0m\u001b[0m\n\u001b[1;32m    798\u001b[0m         \u001b[0;31m# ugly hack for GH #836\u001b[0m\u001b[0;34m\u001b[0m\u001b[0;34m\u001b[0m\u001b[0;34m\u001b[0m\u001b[0m\n",
      "\u001b[0;32m~/anaconda3/lib/python3.7/site-packages/pandas/core/indexing.py\u001b[0m in \u001b[0;36m_has_valid_tuple\u001b[0;34m(self, key)\u001b[0m\n\u001b[1;32m    230\u001b[0m                 \u001b[0;32mraise\u001b[0m \u001b[0mIndexingError\u001b[0m\u001b[0;34m(\u001b[0m\u001b[0;34m\"Too many indexers\"\u001b[0m\u001b[0;34m)\u001b[0m\u001b[0;34m\u001b[0m\u001b[0;34m\u001b[0m\u001b[0m\n\u001b[1;32m    231\u001b[0m             \u001b[0;32mtry\u001b[0m\u001b[0;34m:\u001b[0m\u001b[0;34m\u001b[0m\u001b[0;34m\u001b[0m\u001b[0m\n\u001b[0;32m--> 232\u001b[0;31m                 \u001b[0mself\u001b[0m\u001b[0;34m.\u001b[0m\u001b[0m_validate_key\u001b[0m\u001b[0;34m(\u001b[0m\u001b[0mk\u001b[0m\u001b[0;34m,\u001b[0m \u001b[0mi\u001b[0m\u001b[0;34m)\u001b[0m\u001b[0;34m\u001b[0m\u001b[0;34m\u001b[0m\u001b[0m\n\u001b[0m\u001b[1;32m    233\u001b[0m             \u001b[0;32mexcept\u001b[0m \u001b[0mValueError\u001b[0m\u001b[0;34m:\u001b[0m\u001b[0;34m\u001b[0m\u001b[0;34m\u001b[0m\u001b[0m\n\u001b[1;32m    234\u001b[0m                 raise ValueError(\n",
      "\u001b[0;32m~/anaconda3/lib/python3.7/site-packages/pandas/core/indexing.py\u001b[0m in \u001b[0;36m_validate_key\u001b[0;34m(self, key, axis)\u001b[0m\n\u001b[1;32m   1705\u001b[0m             \u001b[0;32mreturn\u001b[0m\u001b[0;34m\u001b[0m\u001b[0;34m\u001b[0m\u001b[0m\n\u001b[1;32m   1706\u001b[0m \u001b[0;34m\u001b[0m\u001b[0m\n\u001b[0;32m-> 1707\u001b[0;31m         \u001b[0;32mif\u001b[0m \u001b[0mcom\u001b[0m\u001b[0;34m.\u001b[0m\u001b[0mis_bool_indexer\u001b[0m\u001b[0;34m(\u001b[0m\u001b[0mkey\u001b[0m\u001b[0;34m)\u001b[0m\u001b[0;34m:\u001b[0m\u001b[0;34m\u001b[0m\u001b[0;34m\u001b[0m\u001b[0m\n\u001b[0m\u001b[1;32m   1708\u001b[0m             \u001b[0;32mreturn\u001b[0m\u001b[0;34m\u001b[0m\u001b[0;34m\u001b[0m\u001b[0m\n\u001b[1;32m   1709\u001b[0m \u001b[0;34m\u001b[0m\u001b[0m\n",
      "\u001b[0;32m~/anaconda3/lib/python3.7/site-packages/pandas/core/common.py\u001b[0m in \u001b[0;36mis_bool_indexer\u001b[0;34m(key)\u001b[0m\n\u001b[1;32m    123\u001b[0m         \u001b[0mis_array_like\u001b[0m\u001b[0;34m(\u001b[0m\u001b[0mkey\u001b[0m\u001b[0;34m)\u001b[0m \u001b[0;32mand\u001b[0m \u001b[0mis_extension_array_dtype\u001b[0m\u001b[0;34m(\u001b[0m\u001b[0mkey\u001b[0m\u001b[0;34m.\u001b[0m\u001b[0mdtype\u001b[0m\u001b[0;34m)\u001b[0m\u001b[0;34m\u001b[0m\u001b[0;34m\u001b[0m\u001b[0m\n\u001b[1;32m    124\u001b[0m     ):\n\u001b[0;32m--> 125\u001b[0;31m         \u001b[0;32mif\u001b[0m \u001b[0mkey\u001b[0m\u001b[0;34m.\u001b[0m\u001b[0mdtype\u001b[0m \u001b[0;34m==\u001b[0m \u001b[0mnp\u001b[0m\u001b[0;34m.\u001b[0m\u001b[0mobject_\u001b[0m\u001b[0;34m:\u001b[0m\u001b[0;34m\u001b[0m\u001b[0;34m\u001b[0m\u001b[0m\n\u001b[0m\u001b[1;32m    126\u001b[0m             \u001b[0mkey\u001b[0m \u001b[0;34m=\u001b[0m \u001b[0mnp\u001b[0m\u001b[0;34m.\u001b[0m\u001b[0masarray\u001b[0m\u001b[0;34m(\u001b[0m\u001b[0mvalues_from_object\u001b[0m\u001b[0;34m(\u001b[0m\u001b[0mkey\u001b[0m\u001b[0;34m)\u001b[0m\u001b[0;34m)\u001b[0m\u001b[0;34m\u001b[0m\u001b[0;34m\u001b[0m\u001b[0m\n\u001b[1;32m    127\u001b[0m \u001b[0;34m\u001b[0m\u001b[0m\n",
      "\u001b[0;32m~/anaconda3/lib/python3.7/site-packages/pandas/core/series.py\u001b[0m in \u001b[0;36mdtype\u001b[0;34m(self)\u001b[0m\n\u001b[1;32m    470\u001b[0m         \u001b[0mReturn\u001b[0m \u001b[0mthe\u001b[0m \u001b[0mdtype\u001b[0m \u001b[0mobject\u001b[0m \u001b[0mof\u001b[0m \u001b[0mthe\u001b[0m \u001b[0munderlying\u001b[0m \u001b[0mdata\u001b[0m\u001b[0;34m.\u001b[0m\u001b[0;34m\u001b[0m\u001b[0;34m\u001b[0m\u001b[0m\n\u001b[1;32m    471\u001b[0m         \"\"\"\n\u001b[0;32m--> 472\u001b[0;31m         \u001b[0;32mreturn\u001b[0m \u001b[0mself\u001b[0m\u001b[0;34m.\u001b[0m\u001b[0m_data\u001b[0m\u001b[0;34m.\u001b[0m\u001b[0mdtype\u001b[0m\u001b[0;34m\u001b[0m\u001b[0;34m\u001b[0m\u001b[0m\n\u001b[0m\u001b[1;32m    473\u001b[0m \u001b[0;34m\u001b[0m\u001b[0m\n\u001b[1;32m    474\u001b[0m     \u001b[0;34m@\u001b[0m\u001b[0mproperty\u001b[0m\u001b[0;34m\u001b[0m\u001b[0;34m\u001b[0m\u001b[0m\n",
      "\u001b[0;32m~/anaconda3/lib/python3.7/site-packages/pandas/core/internals/managers.py\u001b[0m in \u001b[0;36mdtype\u001b[0;34m(self)\u001b[0m\n\u001b[1;32m   1557\u001b[0m     \u001b[0;34m@\u001b[0m\u001b[0mproperty\u001b[0m\u001b[0;34m\u001b[0m\u001b[0;34m\u001b[0m\u001b[0m\n\u001b[1;32m   1558\u001b[0m     \u001b[0;32mdef\u001b[0m \u001b[0mdtype\u001b[0m\u001b[0;34m(\u001b[0m\u001b[0mself\u001b[0m\u001b[0;34m)\u001b[0m\u001b[0;34m:\u001b[0m\u001b[0;34m\u001b[0m\u001b[0;34m\u001b[0m\u001b[0m\n\u001b[0;32m-> 1559\u001b[0;31m         \u001b[0;32mreturn\u001b[0m \u001b[0mself\u001b[0m\u001b[0;34m.\u001b[0m\u001b[0m_block\u001b[0m\u001b[0;34m.\u001b[0m\u001b[0mdtype\u001b[0m\u001b[0;34m\u001b[0m\u001b[0;34m\u001b[0m\u001b[0m\n\u001b[0m\u001b[1;32m   1560\u001b[0m \u001b[0;34m\u001b[0m\u001b[0m\n\u001b[1;32m   1561\u001b[0m     \u001b[0;34m@\u001b[0m\u001b[0mproperty\u001b[0m\u001b[0;34m\u001b[0m\u001b[0;34m\u001b[0m\u001b[0m\n",
      "\u001b[0;32m~/anaconda3/lib/python3.7/site-packages/pandas/core/internals/managers.py\u001b[0m in \u001b[0;36m_block\u001b[0;34m(self)\u001b[0m\n\u001b[1;32m   1522\u001b[0m     \u001b[0;34m@\u001b[0m\u001b[0mproperty\u001b[0m\u001b[0;34m\u001b[0m\u001b[0;34m\u001b[0m\u001b[0m\n\u001b[1;32m   1523\u001b[0m     \u001b[0;32mdef\u001b[0m \u001b[0m_block\u001b[0m\u001b[0;34m(\u001b[0m\u001b[0mself\u001b[0m\u001b[0;34m)\u001b[0m\u001b[0;34m:\u001b[0m\u001b[0;34m\u001b[0m\u001b[0;34m\u001b[0m\u001b[0m\n\u001b[0;32m-> 1524\u001b[0;31m         \u001b[0;32mreturn\u001b[0m \u001b[0mself\u001b[0m\u001b[0;34m.\u001b[0m\u001b[0mblocks\u001b[0m\u001b[0;34m[\u001b[0m\u001b[0;36m0\u001b[0m\u001b[0;34m]\u001b[0m\u001b[0;34m\u001b[0m\u001b[0;34m\u001b[0m\u001b[0m\n\u001b[0m\u001b[1;32m   1525\u001b[0m \u001b[0;34m\u001b[0m\u001b[0m\n\u001b[1;32m   1526\u001b[0m     \u001b[0;34m@\u001b[0m\u001b[0mproperty\u001b[0m\u001b[0;34m\u001b[0m\u001b[0;34m\u001b[0m\u001b[0m\n",
      "\u001b[0;31mKeyboardInterrupt\u001b[0m: "
     ]
    }
   ],
   "source": [
    "train_loss, valid_loss = [], []\n",
    "for i, epoch in enumerate(range(n_epoch)):\n",
    "\n",
    "    model.train()\n",
    "    for data_i, target_i, len_i in train_loader:\n",
    "        \n",
    "        optimizer.zero_grad()\n",
    "        \n",
    "        output = model(data_i, len_i)\n",
    "        #loss = loss_function(output, target_i)  \n",
    "        loss = calc_loss(output, target_i) \n",
    "        loss.backward()\n",
    "        optimizer.step()\n",
    "        train_loss.append(loss.item())\n",
    "    auc_train = calc_auc(model, train_loader)\n",
    "\n",
    "\n",
    "    \n",
    "    model.eval()\n",
    "    for data_i, target_i, len_i in test_loader:\n",
    "        output = model(data_i, len_i)\n",
    "        #loss2 = loss_function(output, target_i) \n",
    "        loss2 = calc_loss(output, target_i) \n",
    "        valid_loss.append(loss2.item())\n",
    "    \n",
    "    auc_test = calc_auc(model, test_loader)\n",
    "\n",
    "    print(\"Epoch: {}, Train loss: {}, Validation loss: {}, AUC train: {}, AUC test: {}\".format(i,train_loss[-1], valid_loss[-1], auc_train, auc_test))"
   ]
  },
  {
   "cell_type": "code",
   "execution_count": 593,
   "metadata": {},
   "outputs": [
    {
     "data": {
      "text/plain": [
       "tensor([[0.],\n",
       "        [0.],\n",
       "        [0.],\n",
       "        [0.]])"
      ]
     },
     "execution_count": 593,
     "metadata": {},
     "output_type": "execute_result"
    }
   ],
   "source": [
    "target_i[0]"
   ]
  },
  {
   "cell_type": "code",
   "execution_count": 594,
   "metadata": {},
   "outputs": [
    {
     "data": {
      "text/plain": [
       "tensor([[0.0454],\n",
       "        [0.0474],\n",
       "        [0.0672],\n",
       "        [0.0681]], grad_fn=<SelectBackward>)"
      ]
     },
     "execution_count": 594,
     "metadata": {},
     "output_type": "execute_result"
    }
   ],
   "source": [
    "output[0]"
   ]
  },
  {
   "cell_type": "code",
   "execution_count": null,
   "metadata": {},
   "outputs": [],
   "source": []
  },
  {
   "cell_type": "code",
   "execution_count": null,
   "metadata": {},
   "outputs": [],
   "source": []
  },
  {
   "cell_type": "code",
   "execution_count": 595,
   "metadata": {},
   "outputs": [
    {
     "data": {
      "text/plain": [
       "1000"
      ]
     },
     "execution_count": 595,
     "metadata": {},
     "output_type": "execute_result"
    }
   ],
   "source": [
    "len(x_test)"
   ]
  },
  {
   "cell_type": "code",
   "execution_count": 596,
   "metadata": {},
   "outputs": [],
   "source": [
    "from sklearn.metrics import roc_auc_score"
   ]
  },
  {
   "cell_type": "code",
   "execution_count": 597,
   "metadata": {},
   "outputs": [],
   "source": [
    "test_loader2 = DataLoader(x_test, batch_size=len(x_test))"
   ]
  },
  {
   "cell_type": "code",
   "execution_count": 598,
   "metadata": {},
   "outputs": [],
   "source": [
    "model.eval()\n",
    "for data_i, target_i, len_i in test_loader2:\n",
    "    out1 = model(data_i, len_i)\n",
    "    tar1 = target_i\n",
    "    \n",
    "    "
   ]
  },
  {
   "cell_type": "code",
   "execution_count": 599,
   "metadata": {},
   "outputs": [
    {
     "data": {
      "text/plain": [
       "torch.Size([1000])"
      ]
     },
     "execution_count": 599,
     "metadata": {},
     "output_type": "execute_result"
    }
   ],
   "source": [
    "len_i.shape"
   ]
  },
  {
   "cell_type": "code",
   "execution_count": 600,
   "metadata": {},
   "outputs": [],
   "source": [
    "pred = out1.detach().squeeze().numpy()\n",
    "tar = target_i.detach().squeeze().numpy()"
   ]
  },
  {
   "cell_type": "code",
   "execution_count": 601,
   "metadata": {},
   "outputs": [],
   "source": [
    "filtered_pred = []\n",
    "filtered_truth = []\n",
    "for i, pred_i in enumerate(pred):\n",
    "    filtered_pred += list(pred_i[:len_i[i]])\n",
    "\n",
    "for i, tar_i in enumerate(tar):\n",
    "    filtered_truth += list(tar_i[:len_i[i]])  \n",
    "filtered_pred = np.array(filtered_pred)\n",
    "filtered_truth = np.array(filtered_truth)"
   ]
  },
  {
   "cell_type": "code",
   "execution_count": 602,
   "metadata": {},
   "outputs": [
    {
     "data": {
      "text/plain": [
       "(3461, 3461)"
      ]
     },
     "execution_count": 602,
     "metadata": {},
     "output_type": "execute_result"
    }
   ],
   "source": [
    "len(filtered_pred), len(filtered_truth)"
   ]
  },
  {
   "cell_type": "code",
   "execution_count": 603,
   "metadata": {},
   "outputs": [
    {
     "data": {
      "text/plain": [
       "0.7167421013314584"
      ]
     },
     "execution_count": 603,
     "metadata": {},
     "output_type": "execute_result"
    }
   ],
   "source": [
    "roc_auc_score(filtered_truth, filtered_pred)"
   ]
  },
  {
   "cell_type": "code",
   "execution_count": 604,
   "metadata": {},
   "outputs": [],
   "source": [
    "def extract_col(sorted_df, ticker, col):      \n",
    "    ticker_data = sorted_df.loc[sorted_df['ticker'] == ticker, :]    \n",
    "    df_col = ticker_data.loc[:, col]    \n",
    "    return list(df_col.values)"
   ]
  },
  {
   "cell_type": "code",
   "execution_count": 605,
   "metadata": {},
   "outputs": [],
   "source": [
    "pct_shifted = []\n",
    "\n",
    "for ticker in test_tickers:\n",
    "    pct_shifted = pct_shifted + extract_col(df_test_all, ticker, 'pct_change_shifted')\n",
    "    \n",
    "pct_shifted = np.array(pct_shifted)"
   ]
  },
  {
   "cell_type": "code",
   "execution_count": 606,
   "metadata": {},
   "outputs": [
    {
     "data": {
      "text/plain": [
       "3461"
      ]
     },
     "execution_count": 606,
     "metadata": {},
     "output_type": "execute_result"
    }
   ],
   "source": [
    "len(pct_shifted)"
   ]
  },
  {
   "cell_type": "code",
   "execution_count": 607,
   "metadata": {},
   "outputs": [],
   "source": [
    "market_cap, net_margin = [], []\n",
    "\n",
    "for ticker in test_tickers:\n",
    "    market_cap = market_cap + extract_col(df_test_all, ticker, 'marketcap')\n",
    "    net_margin = net_margin + extract_col(df_test_all, ticker, 'netmargin')"
   ]
  },
  {
   "cell_type": "code",
   "execution_count": 608,
   "metadata": {},
   "outputs": [],
   "source": [
    "market_cap = np.array(market_cap)\n",
    "net_margin = np.array(net_margin)"
   ]
  },
  {
   "cell_type": "code",
   "execution_count": 616,
   "metadata": {},
   "outputs": [],
   "source": [
    "#mask = (market_cap>1000000.0) & (net_margin > -0.5) & (filtered_pred>0.3)\n",
    "mask = (filtered_pred>0.12)"
   ]
  },
  {
   "cell_type": "code",
   "execution_count": 617,
   "metadata": {},
   "outputs": [
    {
     "data": {
      "text/plain": [
       "492"
      ]
     },
     "execution_count": 617,
     "metadata": {},
     "output_type": "execute_result"
    }
   ],
   "source": [
    "np.sum(mask)"
   ]
  },
  {
   "cell_type": "code",
   "execution_count": 618,
   "metadata": {},
   "outputs": [
    {
     "data": {
      "text/plain": [
       "492"
      ]
     },
     "execution_count": 618,
     "metadata": {},
     "output_type": "execute_result"
    }
   ],
   "source": [
    "len(filtered_pred[mask])"
   ]
  },
  {
   "cell_type": "code",
   "execution_count": 619,
   "metadata": {},
   "outputs": [
    {
     "data": {
      "text/plain": [
       "0.0013208837197989994"
      ]
     },
     "execution_count": 619,
     "metadata": {},
     "output_type": "execute_result"
    }
   ],
   "source": [
    "np.average(pct_shifted[mask])"
   ]
  },
  {
   "cell_type": "code",
   "execution_count": null,
   "metadata": {},
   "outputs": [],
   "source": []
  },
  {
   "cell_type": "code",
   "execution_count": 620,
   "metadata": {},
   "outputs": [
    {
     "data": {
      "text/plain": [
       "<matplotlib.collections.PathCollection at 0x7fb520ec3438>"
      ]
     },
     "execution_count": 620,
     "metadata": {},
     "output_type": "execute_result"
    },
    {
     "data": {
      "image/png": "[encoded data removed]",
      "text/plain": [
       "<Figure size 1152x864 with 1 Axes>"
      ]
     },
     "metadata": {},
     "output_type": "display_data"
    }
   ],
   "source": [
    "ax, fig = plt.subplots(figsize=(16,12))\n",
    "plt.scatter(filtered_pred[mask], pct_shifted[mask], alpha=0.3)"
   ]
  },
  {
   "cell_type": "code",
   "execution_count": null,
   "metadata": {},
   "outputs": [],
   "source": []
  },
  {
   "cell_type": "code",
   "execution_count": null,
   "metadata": {},
   "outputs": [],
   "source": []
  },
  {
   "cell_type": "code",
   "execution_count": null,
   "metadata": {},
   "outputs": [],
   "source": []
  },
  {
   "cell_type": "code",
   "execution_count": null,
   "metadata": {},
   "outputs": [],
   "source": []
  },
  {
   "cell_type": "code",
   "execution_count": 405,
   "metadata": {},
   "outputs": [
    {
     "data": {
      "text/plain": [
       "torch.Size([1000, 3, 1])"
      ]
     },
     "execution_count": 405,
     "metadata": {},
     "output_type": "execute_result"
    }
   ],
   "source": [
    "out1.shape"
   ]
  },
  {
   "cell_type": "code",
   "execution_count": 406,
   "metadata": {},
   "outputs": [],
   "source": [
    "pred = out1.detach().squeeze().reshape(-1,1).numpy()"
   ]
  },
  {
   "cell_type": "code",
   "execution_count": 407,
   "metadata": {},
   "outputs": [],
   "source": [
    "target_1  = tar1.detach().squeeze().reshape(-1,1).numpy()"
   ]
  },
  {
   "cell_type": "code",
   "execution_count": 412,
   "metadata": {},
   "outputs": [
    {
     "data": {
      "text/plain": [
       "array([[0.04939295],\n",
       "       [0.05987354],\n",
       "       [0.06831986],\n",
       "       ...,\n",
       "       [0.06683617],\n",
       "       [0.08545984],\n",
       "       [0.09818827]], dtype=float32)"
      ]
     },
     "execution_count": 412,
     "metadata": {},
     "output_type": "execute_result"
    }
   ],
   "source": [
    "pred"
   ]
  },
  {
   "cell_type": "code",
   "execution_count": 414,
   "metadata": {},
   "outputs": [
    {
     "data": {
      "text/plain": [
       "array([[0.],\n",
       "       [0.],\n",
       "       [0.],\n",
       "       ...,\n",
       "       [0.],\n",
       "       [1.],\n",
       "       [0.]], dtype=float32)"
      ]
     },
     "execution_count": 414,
     "metadata": {},
     "output_type": "execute_result"
    }
   ],
   "source": [
    "target_1"
   ]
  },
  {
   "cell_type": "code",
   "execution_count": 418,
   "metadata": {},
   "outputs": [
    {
     "data": {
      "text/plain": [
       "(array([739., 546., 463., 286., 260., 183., 141.,  95.,  75.,  33.,  13.,\n",
       "          4.,   1.,   1.,   2.,   4., 150.,   3.,   0.,   1.]),\n",
       " array([0.00235533, 0.02382779, 0.04530025, 0.06677271, 0.08824517,\n",
       "        0.10971763, 0.13119009, 0.15266255, 0.17413501, 0.19560747,\n",
       "        0.21707994, 0.23855239, 0.26002485, 0.2814973 , 0.30296978,\n",
       "        0.32444224, 0.3459147 , 0.36738715, 0.38885963, 0.41033208,\n",
       "        0.43180454], dtype=float32),\n",
       " <a list of 20 Patch objects>)"
      ]
     },
     "execution_count": 418,
     "metadata": {},
     "output_type": "execute_result"
    },
    {
     "data": {
      "image/png": "[encoded data removed]",
      "text/plain": [
       "<Figure size 432x288 with 1 Axes>"
      ]
     },
     "metadata": {},
     "output_type": "display_data"
    }
   ],
   "source": [
    "plt.hist(pred, bins = 20)"
   ]
  },
  {
   "cell_type": "code",
   "execution_count": 420,
   "metadata": {},
   "outputs": [
    {
     "data": {
      "text/plain": [
       "<matplotlib.collections.PathCollection at 0x7fb521263240>"
      ]
     },
     "execution_count": 420,
     "metadata": {},
     "output_type": "execute_result"
    },
    {
     "data": {
      "image/png": "[encoded data removed]",
      "text/plain": [
       "<Figure size 432x288 with 1 Axes>"
      ]
     },
     "metadata": {},
     "output_type": "display_data"
    }
   ],
   "source": [
    "plt.scatter(pred, target_1, )"
   ]
  },
  {
   "cell_type": "code",
   "execution_count": 426,
   "metadata": {},
   "outputs": [],
   "source": []
  },
  {
   "cell_type": "code",
   "execution_count": 429,
   "metadata": {},
   "outputs": [],
   "source": []
  },
  {
   "cell_type": "code",
   "execution_count": 431,
   "metadata": {},
   "outputs": [
    {
     "data": {
      "text/plain": [
       "2860"
      ]
     },
     "execution_count": 431,
     "metadata": {},
     "output_type": "execute_result"
    }
   ],
   "source": [
    "len(pct_shifted)"
   ]
  },
  {
   "cell_type": "code",
   "execution_count": 433,
   "metadata": {},
   "outputs": [
    {
     "data": {
      "text/plain": [
       "3000"
      ]
     },
     "execution_count": 433,
     "metadata": {},
     "output_type": "execute_result"
    }
   ],
   "source": [
    "len(target_1)"
   ]
  },
  {
   "cell_type": "code",
   "execution_count": null,
   "metadata": {},
   "outputs": [],
   "source": []
  },
  {
   "cell_type": "code",
   "execution_count": 428,
   "metadata": {},
   "outputs": [
    {
     "data": {
      "text/plain": [
       "[-0.08875739644970404, -0.07751623376623372, -0.05499340079190496]"
      ]
     },
     "execution_count": 428,
     "metadata": {},
     "output_type": "execute_result"
    }
   ],
   "source": [
    "extract_col(df_test_all, 'TGNA_2', 'pct_change_shifted')"
   ]
  },
  {
   "cell_type": "code",
   "execution_count": null,
   "metadata": {},
   "outputs": [],
   "source": []
  },
  {
   "cell_type": "code",
   "execution_count": 408,
   "metadata": {},
   "outputs": [
    {
     "data": {
      "text/plain": [
       "0.6338372745686605"
      ]
     },
     "execution_count": 408,
     "metadata": {},
     "output_type": "execute_result"
    }
   ],
   "source": [
    "roc_auc_score(target_1, pred)"
   ]
  },
  {
   "cell_type": "code",
   "execution_count": null,
   "metadata": {},
   "outputs": [],
   "source": []
  },
  {
   "cell_type": "code",
   "execution_count": 411,
   "metadata": {},
   "outputs": [
    {
     "data": {
      "text/plain": [
       "(tensor([[0.0819],\n",
       "         [0.0373],\n",
       "         [0.0282]], grad_fn=<SelectBackward>), tensor([[0.],\n",
       "         [0.],\n",
       "         [0.]]))"
      ]
     },
     "execution_count": 411,
     "metadata": {},
     "output_type": "execute_result"
    }
   ],
   "source": [
    "i=15\n",
    "out1[i], tar1[i]"
   ]
  },
  {
   "cell_type": "code",
   "execution_count": null,
   "metadata": {},
   "outputs": [],
   "source": [
    "tar1[5]"
   ]
  },
  {
   "cell_type": "code",
   "execution_count": null,
   "metadata": {},
   "outputs": [],
   "source": []
  },
  {
   "cell_type": "code",
   "execution_count": null,
   "metadata": {},
   "outputs": [],
   "source": [
    "out1.squeeze().detach().numpy()"
   ]
  },
  {
   "cell_type": "code",
   "execution_count": null,
   "metadata": {},
   "outputs": [],
   "source": [
    "tar1.squeeze().numpy()"
   ]
  },
  {
   "cell_type": "code",
   "execution_count": null,
   "metadata": {},
   "outputs": [],
   "source": [
    "tar1.shape"
   ]
  },
  {
   "cell_type": "code",
   "execution_count": null,
   "metadata": {},
   "outputs": [],
   "source": [
    "out1.squeeze().detach().numpy()[99]"
   ]
  },
  {
   "cell_type": "code",
   "execution_count": null,
   "metadata": {},
   "outputs": [],
   "source": [
    "data_i.shape"
   ]
  },
  {
   "cell_type": "code",
   "execution_count": null,
   "metadata": {},
   "outputs": [],
   "source": []
  }
 ],
 "metadata": {
  "kernelspec": {
   "display_name": "Python 3",
   "language": "python",
   "name": "python3"
  },
  "language_info": {
   "codemirror_mode": {
    "name": "ipython",
    "version": 3
   },
   "file_extension": ".py",
   "mimetype": "text/x-python",
   "name": "python",
   "nbconvert_exporter": "python",
   "pygments_lexer": "ipython3",
   "version": "3.7.3"
  }
 },
 "nbformat": 4,
 "nbformat_minor": 2
}
