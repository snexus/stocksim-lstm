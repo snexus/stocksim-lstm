{
 "cells": [
  {
   "cell_type": "markdown",
   "metadata": {},
   "source": [
    "## Data preparation\n",
    "\n",
    "What is done in this script:\n",
    "\n",
    "1) Filter by dimension\n",
    "\n",
    "2) Add percentage_shift\n",
    "\n",
    "3) Remove NaNs due to percentage_shift\n",
    "\n",
    "4) Filter only NYSE and NASDAQ tickers\n",
    "\n",
    "5) Create class1 variable based on uplift in the next quarter\n",
    "\n",
    "### Supporting information\n",
    "\n",
    "* Using the ART dimension, see https://www.quandl.com/databases/SF1/documentation?anchor=dimensions\n",
    "\n",
    "---\n",
    "\n",
    "As Reported view (AR):\n",
    "\n",
    "- excludes restatements\n",
    "- point-in-time view with data time-indexed to the date the form 10 regulatory filing was submitted to the SEC\n",
    "- presents data for the latest reporting period at that filing date\n",
    "- may include multiple observations in a quarter if more than one filing is made during the quarter\n",
    "- on limited occassion may not have any observations in a particular quarter. Sometimes companies are delayed in reporting for up to 18 months. On such occassions they may report multiple -  - documents on the same date to catch up, in which case these datasets will only provide date for the most recent reporting period.\n",
    "- typically suitable for back-testing\n",
    "\n",
    "---\n",
    "* Trailing Twelve Months (T): Quarterly observations of one year duration\n",
    "* The Date Key represents the SEC filing date for AR dimensions.\n",
    "---"
   ]
  },
  {
   "cell_type": "code",
   "execution_count": 2,
   "metadata": {},
   "outputs": [],
   "source": [
    "import pandas as pd\n",
    "import numpy as np\n",
    "import matplotlib as plt\n",
    "import seaborn as sns"
   ]
  },
  {
   "cell_type": "markdown",
   "metadata": {},
   "source": [
    "### Configuration parameters"
   ]
  },
  {
   "cell_type": "code",
   "execution_count": 50,
   "metadata": {},
   "outputs": [],
   "source": [
    "SF1_FN = \"data/raw/SHARADAR_SF1_086134faf658fcc2cdcb53f4295b5fad.csv\"\n",
    "TICKERS_FN = \"data/raw/SHARADAR_TICKERS_6cc728d11002ab9cb99aa8654a6b9f4e.csv\"\n",
    "\n",
    "DIMENSION = \"ART\" # see header\n",
    "\n",
    "# Minimum percentage change to be considered class 1\n",
    "MIN_PCT_CHANGE_CLASS1 = 0.3\n",
    "\n",
    "TRANSFORMED_DATA_FN = \"data/transformed/data.csv\" # Data\n",
    "TRANSFORMED_META_FN = \"data/transformed/data.json\" # Metadata"
   ]
  },
  {
   "cell_type": "markdown",
   "metadata": {},
   "source": [
    "### Data ingestion"
   ]
  },
  {
   "cell_type": "code",
   "execution_count": 10,
   "metadata": {},
   "outputs": [],
   "source": [
    "df_sf = pd.read_csv(SF1_FN)"
   ]
  },
  {
   "cell_type": "code",
   "execution_count": 11,
   "metadata": {},
   "outputs": [
    {
     "data": {
      "text/plain": [
       "Index(['ticker', 'dimension', 'calendardate', 'datekey', 'reportperiod',\n",
       "       'lastupdated', 'accoci', 'assets', 'assetsavg', 'assetsc',\n",
       "       ...\n",
       "       'sharesbas', 'shareswa', 'shareswadil', 'sps', 'tangibles', 'taxassets',\n",
       "       'taxexp', 'taxliabilities', 'tbvps', 'workingcapital'],\n",
       "      dtype='object', length=111)"
      ]
     },
     "execution_count": 11,
     "metadata": {},
     "output_type": "execute_result"
    }
   ],
   "source": [
    "df_sf.columns"
   ]
  },
  {
   "cell_type": "code",
   "execution_count": 12,
   "metadata": {},
   "outputs": [
    {
     "data": {
      "text/plain": [
       "array(['ARQ', 'ART', 'ARY', 'MRQ', 'MRT', 'MRY'], dtype=object)"
      ]
     },
     "execution_count": 12,
     "metadata": {},
     "output_type": "execute_result"
    }
   ],
   "source": [
    "df_sf['dimension'].unique()"
   ]
  },
  {
   "cell_type": "code",
   "execution_count": 15,
   "metadata": {},
   "outputs": [],
   "source": [
    "df_sf_1 = df_sf.loc[df_sf['dimension'] == DIMENSION, :]"
   ]
  },
  {
   "cell_type": "code",
   "execution_count": 16,
   "metadata": {},
   "outputs": [
    {
     "name": "stdout",
     "output_type": "stream",
     "text": [
      "<class 'pandas.core.frame.DataFrame'>\n",
      "Int64Index: 108565 entries, 17 to 490760\n",
      "Columns: 111 entries, ticker to workingcapital\n",
      "dtypes: float64(105), object(6)\n",
      "memory usage: 92.8+ MB\n"
     ]
    }
   ],
   "source": [
    "df_sf_1.info()"
   ]
  },
  {
   "cell_type": "code",
   "execution_count": 18,
   "metadata": {},
   "outputs": [
    {
     "name": "stderr",
     "output_type": "stream",
     "text": [
      "/home/snexus/anaconda3/lib/python3.7/site-packages/ipykernel_launcher.py:4: SettingWithCopyWarning: \n",
      "A value is trying to be set on a copy of a slice from a DataFrame.\n",
      "Try using .loc[row_indexer,col_indexer] = value instead\n",
      "\n",
      "See the caveats in the documentation: http://pandas.pydata.org/pandas-docs/stable/user_guide/indexing.html#returning-a-view-versus-a-copy\n",
      "  after removing the cwd from sys.path.\n"
     ]
    }
   ],
   "source": [
    "# Convert datetimes\n",
    "\n",
    "for col in ('calendardate', 'datekey', 'reportperiod', 'lastupdated'):\n",
    "    df_sf_1[col] = pd.to_datetime(df_sf_1[col])"
   ]
  },
  {
   "cell_type": "code",
   "execution_count": 19,
   "metadata": {},
   "outputs": [
    {
     "data": {
      "text/html": [
       "<div>\n",
       "<style scoped>\n",
       "    .dataframe tbody tr th:only-of-type {\n",
       "        vertical-align: middle;\n",
       "    }\n",
       "\n",
       "    .dataframe tbody tr th {\n",
       "        vertical-align: top;\n",
       "    }\n",
       "\n",
       "    .dataframe thead th {\n",
       "        text-align: right;\n",
       "    }\n",
       "</style>\n",
       "<table border=\"1\" class=\"dataframe\">\n",
       "  <thead>\n",
       "    <tr style=\"text-align: right;\">\n",
       "      <th></th>\n",
       "      <th>ticker</th>\n",
       "      <th>dimension</th>\n",
       "      <th>calendardate</th>\n",
       "      <th>datekey</th>\n",
       "      <th>reportperiod</th>\n",
       "      <th>lastupdated</th>\n",
       "      <th>accoci</th>\n",
       "      <th>assets</th>\n",
       "      <th>assetsavg</th>\n",
       "      <th>assetsc</th>\n",
       "      <th>...</th>\n",
       "      <th>sharesbas</th>\n",
       "      <th>shareswa</th>\n",
       "      <th>shareswadil</th>\n",
       "      <th>sps</th>\n",
       "      <th>tangibles</th>\n",
       "      <th>taxassets</th>\n",
       "      <th>taxexp</th>\n",
       "      <th>taxliabilities</th>\n",
       "      <th>tbvps</th>\n",
       "      <th>workingcapital</th>\n",
       "    </tr>\n",
       "  </thead>\n",
       "  <tbody>\n",
       "    <tr>\n",
       "      <th>17</th>\n",
       "      <td>A</td>\n",
       "      <td>ART</td>\n",
       "      <td>2014-03-31</td>\n",
       "      <td>2014-06-04</td>\n",
       "      <td>2014-04-30</td>\n",
       "      <td>2019-08-30</td>\n",
       "      <td>132000000.0</td>\n",
       "      <td>1.102600e+10</td>\n",
       "      <td>1.065700e+10</td>\n",
       "      <td>5.377000e+09</td>\n",
       "      <td>...</td>\n",
       "      <td>333260908.0</td>\n",
       "      <td>333000000.0</td>\n",
       "      <td>337000000.0</td>\n",
       "      <td>20.360</td>\n",
       "      <td>7.134000e+09</td>\n",
       "      <td>0.0</td>\n",
       "      <td>130000000.0</td>\n",
       "      <td>0.0</td>\n",
       "      <td>21.423</td>\n",
       "      <td>3.658000e+09</td>\n",
       "    </tr>\n",
       "    <tr>\n",
       "      <th>18</th>\n",
       "      <td>A</td>\n",
       "      <td>ART</td>\n",
       "      <td>2014-06-30</td>\n",
       "      <td>2014-09-02</td>\n",
       "      <td>2014-07-31</td>\n",
       "      <td>2019-08-30</td>\n",
       "      <td>53000000.0</td>\n",
       "      <td>1.038000e+10</td>\n",
       "      <td>1.068250e+10</td>\n",
       "      <td>4.834000e+09</td>\n",
       "      <td>...</td>\n",
       "      <td>333512738.0</td>\n",
       "      <td>334000000.0</td>\n",
       "      <td>338000000.0</td>\n",
       "      <td>20.641</td>\n",
       "      <td>6.610000e+09</td>\n",
       "      <td>0.0</td>\n",
       "      <td>123000000.0</td>\n",
       "      <td>0.0</td>\n",
       "      <td>19.790</td>\n",
       "      <td>3.255000e+09</td>\n",
       "    </tr>\n",
       "    <tr>\n",
       "      <th>19</th>\n",
       "      <td>A</td>\n",
       "      <td>ART</td>\n",
       "      <td>2014-09-30</td>\n",
       "      <td>2014-12-22</td>\n",
       "      <td>2014-10-31</td>\n",
       "      <td>2019-08-30</td>\n",
       "      <td>-334000000.0</td>\n",
       "      <td>1.083100e+10</td>\n",
       "      <td>1.071875e+10</td>\n",
       "      <td>5.500000e+09</td>\n",
       "      <td>...</td>\n",
       "      <td>335321802.0</td>\n",
       "      <td>333000000.0</td>\n",
       "      <td>338000000.0</td>\n",
       "      <td>20.964</td>\n",
       "      <td>7.265000e+09</td>\n",
       "      <td>0.0</td>\n",
       "      <td>142000000.0</td>\n",
       "      <td>0.0</td>\n",
       "      <td>21.817</td>\n",
       "      <td>3.798000e+09</td>\n",
       "    </tr>\n",
       "    <tr>\n",
       "      <th>20</th>\n",
       "      <td>A</td>\n",
       "      <td>ART</td>\n",
       "      <td>2014-12-31</td>\n",
       "      <td>2015-03-10</td>\n",
       "      <td>2015-01-31</td>\n",
       "      <td>2019-08-30</td>\n",
       "      <td>-261000000.0</td>\n",
       "      <td>7.519000e+09</td>\n",
       "      <td>9.939000e+09</td>\n",
       "      <td>3.654000e+09</td>\n",
       "      <td>...</td>\n",
       "      <td>335810297.0</td>\n",
       "      <td>336000000.0</td>\n",
       "      <td>338000000.0</td>\n",
       "      <td>18.833</td>\n",
       "      <td>4.608000e+09</td>\n",
       "      <td>0.0</td>\n",
       "      <td>157000000.0</td>\n",
       "      <td>0.0</td>\n",
       "      <td>13.714</td>\n",
       "      <td>2.726000e+09</td>\n",
       "    </tr>\n",
       "    <tr>\n",
       "      <th>21</th>\n",
       "      <td>A</td>\n",
       "      <td>ART</td>\n",
       "      <td>2015-03-31</td>\n",
       "      <td>2015-06-05</td>\n",
       "      <td>2015-04-30</td>\n",
       "      <td>2019-08-30</td>\n",
       "      <td>-270000000.0</td>\n",
       "      <td>7.412000e+09</td>\n",
       "      <td>9.035500e+09</td>\n",
       "      <td>3.620000e+09</td>\n",
       "      <td>...</td>\n",
       "      <td>333191751.0</td>\n",
       "      <td>334000000.0</td>\n",
       "      <td>337000000.0</td>\n",
       "      <td>16.647</td>\n",
       "      <td>4.555000e+09</td>\n",
       "      <td>0.0</td>\n",
       "      <td>118000000.0</td>\n",
       "      <td>0.0</td>\n",
       "      <td>13.638</td>\n",
       "      <td>2.690000e+09</td>\n",
       "    </tr>\n",
       "  </tbody>\n",
       "</table>\n",
       "<p>5 rows × 111 columns</p>\n",
       "</div>"
      ],
      "text/plain": [
       "   ticker dimension calendardate    datekey reportperiod lastupdated  \\\n",
       "17      A       ART   2014-03-31 2014-06-04   2014-04-30  2019-08-30   \n",
       "18      A       ART   2014-06-30 2014-09-02   2014-07-31  2019-08-30   \n",
       "19      A       ART   2014-09-30 2014-12-22   2014-10-31  2019-08-30   \n",
       "20      A       ART   2014-12-31 2015-03-10   2015-01-31  2019-08-30   \n",
       "21      A       ART   2015-03-31 2015-06-05   2015-04-30  2019-08-30   \n",
       "\n",
       "         accoci        assets     assetsavg       assetsc  ...    sharesbas  \\\n",
       "17  132000000.0  1.102600e+10  1.065700e+10  5.377000e+09  ...  333260908.0   \n",
       "18   53000000.0  1.038000e+10  1.068250e+10  4.834000e+09  ...  333512738.0   \n",
       "19 -334000000.0  1.083100e+10  1.071875e+10  5.500000e+09  ...  335321802.0   \n",
       "20 -261000000.0  7.519000e+09  9.939000e+09  3.654000e+09  ...  335810297.0   \n",
       "21 -270000000.0  7.412000e+09  9.035500e+09  3.620000e+09  ...  333191751.0   \n",
       "\n",
       "       shareswa  shareswadil     sps     tangibles  taxassets       taxexp  \\\n",
       "17  333000000.0  337000000.0  20.360  7.134000e+09        0.0  130000000.0   \n",
       "18  334000000.0  338000000.0  20.641  6.610000e+09        0.0  123000000.0   \n",
       "19  333000000.0  338000000.0  20.964  7.265000e+09        0.0  142000000.0   \n",
       "20  336000000.0  338000000.0  18.833  4.608000e+09        0.0  157000000.0   \n",
       "21  334000000.0  337000000.0  16.647  4.555000e+09        0.0  118000000.0   \n",
       "\n",
       "    taxliabilities   tbvps  workingcapital  \n",
       "17             0.0  21.423    3.658000e+09  \n",
       "18             0.0  19.790    3.255000e+09  \n",
       "19             0.0  21.817    3.798000e+09  \n",
       "20             0.0  13.714    2.726000e+09  \n",
       "21             0.0  13.638    2.690000e+09  \n",
       "\n",
       "[5 rows x 111 columns]"
      ]
     },
     "execution_count": 19,
     "metadata": {},
     "output_type": "execute_result"
    }
   ],
   "source": [
    "df_sf_1.head()"
   ]
  },
  {
   "cell_type": "code",
   "execution_count": 22,
   "metadata": {},
   "outputs": [],
   "source": [
    "# Sort by ticker and datekey\n",
    "\n",
    "df_sf_2 = df_sf_1.sort_values(by=['ticker', 'datekey'])"
   ]
  },
  {
   "cell_type": "code",
   "execution_count": 23,
   "metadata": {},
   "outputs": [],
   "source": [
    "df_sf_2['price_shifted'] = df_sf_2.groupby('ticker')['price'].shift(-1)\n",
    "df_sf_2['pct_change_shifted'] = df_sf_2['price_shifted']/df_sf_2['price']-1.0"
   ]
  },
  {
   "cell_type": "code",
   "execution_count": 26,
   "metadata": {},
   "outputs": [
    {
     "data": {
      "text/html": [
       "<div>\n",
       "<style scoped>\n",
       "    .dataframe tbody tr th:only-of-type {\n",
       "        vertical-align: middle;\n",
       "    }\n",
       "\n",
       "    .dataframe tbody tr th {\n",
       "        vertical-align: top;\n",
       "    }\n",
       "\n",
       "    .dataframe thead th {\n",
       "        text-align: right;\n",
       "    }\n",
       "</style>\n",
       "<table border=\"1\" class=\"dataframe\">\n",
       "  <thead>\n",
       "    <tr style=\"text-align: right;\">\n",
       "      <th></th>\n",
       "      <th>ticker</th>\n",
       "      <th>datekey</th>\n",
       "      <th>price</th>\n",
       "      <th>price_shifted</th>\n",
       "      <th>pct_change_shifted</th>\n",
       "    </tr>\n",
       "  </thead>\n",
       "  <tbody>\n",
       "    <tr>\n",
       "      <th>17</th>\n",
       "      <td>A</td>\n",
       "      <td>2014-06-04</td>\n",
       "      <td>57.45</td>\n",
       "      <td>58.07</td>\n",
       "      <td>0.010792</td>\n",
       "    </tr>\n",
       "    <tr>\n",
       "      <th>18</th>\n",
       "      <td>A</td>\n",
       "      <td>2014-09-02</td>\n",
       "      <td>58.07</td>\n",
       "      <td>41.88</td>\n",
       "      <td>-0.278801</td>\n",
       "    </tr>\n",
       "    <tr>\n",
       "      <th>19</th>\n",
       "      <td>A</td>\n",
       "      <td>2014-12-22</td>\n",
       "      <td>41.88</td>\n",
       "      <td>40.63</td>\n",
       "      <td>-0.029847</td>\n",
       "    </tr>\n",
       "    <tr>\n",
       "      <th>20</th>\n",
       "      <td>A</td>\n",
       "      <td>2015-03-10</td>\n",
       "      <td>40.63</td>\n",
       "      <td>40.31</td>\n",
       "      <td>-0.007876</td>\n",
       "    </tr>\n",
       "    <tr>\n",
       "      <th>21</th>\n",
       "      <td>A</td>\n",
       "      <td>2015-06-05</td>\n",
       "      <td>40.31</td>\n",
       "      <td>35.53</td>\n",
       "      <td>-0.118581</td>\n",
       "    </tr>\n",
       "    <tr>\n",
       "      <th>22</th>\n",
       "      <td>A</td>\n",
       "      <td>2015-09-02</td>\n",
       "      <td>35.53</td>\n",
       "      <td>40.83</td>\n",
       "      <td>0.149170</td>\n",
       "    </tr>\n",
       "    <tr>\n",
       "      <th>23</th>\n",
       "      <td>A</td>\n",
       "      <td>2015-12-21</td>\n",
       "      <td>40.83</td>\n",
       "      <td>38.09</td>\n",
       "      <td>-0.067108</td>\n",
       "    </tr>\n",
       "    <tr>\n",
       "      <th>24</th>\n",
       "      <td>A</td>\n",
       "      <td>2016-03-08</td>\n",
       "      <td>38.09</td>\n",
       "      <td>45.75</td>\n",
       "      <td>0.201103</td>\n",
       "    </tr>\n",
       "    <tr>\n",
       "      <th>25</th>\n",
       "      <td>A</td>\n",
       "      <td>2016-06-07</td>\n",
       "      <td>45.75</td>\n",
       "      <td>47.11</td>\n",
       "      <td>0.029727</td>\n",
       "    </tr>\n",
       "    <tr>\n",
       "      <th>26</th>\n",
       "      <td>A</td>\n",
       "      <td>2016-09-07</td>\n",
       "      <td>47.11</td>\n",
       "      <td>46.21</td>\n",
       "      <td>-0.019104</td>\n",
       "    </tr>\n",
       "  </tbody>\n",
       "</table>\n",
       "</div>"
      ],
      "text/plain": [
       "   ticker    datekey  price  price_shifted  pct_change_shifted\n",
       "17      A 2014-06-04  57.45          58.07            0.010792\n",
       "18      A 2014-09-02  58.07          41.88           -0.278801\n",
       "19      A 2014-12-22  41.88          40.63           -0.029847\n",
       "20      A 2015-03-10  40.63          40.31           -0.007876\n",
       "21      A 2015-06-05  40.31          35.53           -0.118581\n",
       "22      A 2015-09-02  35.53          40.83            0.149170\n",
       "23      A 2015-12-21  40.83          38.09           -0.067108\n",
       "24      A 2016-03-08  38.09          45.75            0.201103\n",
       "25      A 2016-06-07  45.75          47.11            0.029727\n",
       "26      A 2016-09-07  47.11          46.21           -0.019104"
      ]
     },
     "execution_count": 26,
     "metadata": {},
     "output_type": "execute_result"
    }
   ],
   "source": [
    "df_sf_2[['ticker', 'datekey', 'price', 'price_shifted', 'pct_change_shifted']].head(10)"
   ]
  },
  {
   "cell_type": "markdown",
   "metadata": {},
   "source": [
    "### Cleaning and filtering"
   ]
  },
  {
   "cell_type": "code",
   "execution_count": 32,
   "metadata": {},
   "outputs": [],
   "source": [
    "# Clean NaN rows (last of percentage shift)\n",
    "\n",
    "df_sf_3 = df_sf_2[~df_sf_2['pct_change_shifted'].isna()]"
   ]
  },
  {
   "cell_type": "code",
   "execution_count": 39,
   "metadata": {},
   "outputs": [],
   "source": [
    "tickers = pd.read_csv(TICKERS_FN)"
   ]
  },
  {
   "cell_type": "code",
   "execution_count": 41,
   "metadata": {},
   "outputs": [],
   "source": [
    "valid_tickers = tickers[(tickers['exchange']=='NYSE') | (tickers['exchange']==\"NASDAQ\")][['ticker','exchange','siccode']]"
   ]
  },
  {
   "cell_type": "code",
   "execution_count": 44,
   "metadata": {},
   "outputs": [],
   "source": [
    "# Clean only NYSE and NASDAQ\n",
    "\n",
    "df_sf_4 = valid_tickers.merge(df_sf_3, on='ticker', how='inner')"
   ]
  },
  {
   "cell_type": "code",
   "execution_count": 47,
   "metadata": {},
   "outputs": [],
   "source": [
    "df_sf_4.loc[:, 'class1'] = 0\n",
    "df_sf_4.loc[df_sf_4['pct_change_shifted']>MIN_PCT_CHANGE_CLASS1, 'class1'] = 1"
   ]
  },
  {
   "cell_type": "code",
   "execution_count": 49,
   "metadata": {},
   "outputs": [
    {
     "data": {
      "image/png": "[encoded data removed]",
      "text/plain": [
       "<Figure size 432x288 with 1 Axes>"
      ]
     },
     "metadata": {
      "needs_background": "light"
     },
     "output_type": "display_data"
    }
   ],
   "source": [
    "sns.countplot(data=df_sf_4, x='class1');"
   ]
  },
  {
   "cell_type": "markdown",
   "metadata": {},
   "source": [
    "### Save data"
   ]
  },
  {
   "cell_type": "code",
   "execution_count": 58,
   "metadata": {},
   "outputs": [],
   "source": [
    "import json\n",
    "import datetime as dt"
   ]
  },
  {
   "cell_type": "code",
   "execution_count": 51,
   "metadata": {},
   "outputs": [],
   "source": [
    "df_sf_4.to_csv(TRANSFORMED_DATA_FN, header=True, index=False)"
   ]
  },
  {
   "cell_type": "code",
   "execution_count": 52,
   "metadata": {},
   "outputs": [],
   "source": [
    "# metadata\n",
    "\n",
    "feature_cols = [ \n",
    "       'eps',\n",
    "       'revenue', 'currentratio', 'marketcap', 'pe1',  'pe', 'sps', 'ps1', 'evebitda',\n",
    "       'evebit', 'de', 'pb', 'netmargin', 'ev','divyield','payoutratio','ebitdamargin','grossmargin',\n",
    "    'publish_month','equityavg','roe','roa','roic','ros','dps','price', 'siccode']\n",
    "\n",
    "meta_cols = ['ticker', 'pct_change_shifted', 'datekey','marketcap','netmargin','pe1','ev', 'price']\n",
    "\n",
    "target_col = \"class1\""
   ]
  },
  {
   "cell_type": "code",
   "execution_count": 63,
   "metadata": {},
   "outputs": [],
   "source": [
    "metadata = {\n",
    "    'features':\",\".join(feature_cols),\n",
    "    'meta':\",\".join(meta_cols),\n",
    "    \"target\":target_col,\n",
    "    'timestamp': dt.datetime.now().strftime(\"%Y-%m-%d %H:%M:%S\")\n",
    "}\n",
    "\n",
    "with open(TRANSFORMED_META_FN, 'w') as fp:\n",
    "    json.dump(metadata, fp)"
   ]
  },
  {
   "cell_type": "code",
   "execution_count": null,
   "metadata": {},
   "outputs": [],
   "source": []
  }
 ],
 "metadata": {
  "kernelspec": {
   "display_name": "Python 3",
   "language": "python",
   "name": "python3"
  },
  "language_info": {
   "codemirror_mode": {
    "name": "ipython",
    "version": 3
   },
   "file_extension": ".py",
   "mimetype": "text/x-python",
   "name": "python",
   "nbconvert_exporter": "python",
   "pygments_lexer": "ipython3",
   "version": "3.7.3"
  }
 },
 "nbformat": 4,
 "nbformat_minor": 2
}
